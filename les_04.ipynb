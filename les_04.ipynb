{
 "cells": [
  {
   "cell_type": "markdown",
   "metadata": {},
   "source": [
    "# Все ответы вероятности даны в %, так мне легче осознать результат (т.е. *100).\n",
    "\n"
   ]
  },
  {
   "cell_type": "markdown",
   "metadata": {},
   "source": [
    "Случайная непрерывная величина A имеет равномерное распределение на промежутке (200, 800].\n",
    "Найдите ее среднее значение и дисперсию."
   ]
  },
  {
   "cell_type": "code",
   "execution_count": 5,
   "metadata": {},
   "outputs": [
    {
     "name": "stdout",
     "output_type": "stream",
     "text": [
      "среднее: 500.0\n",
      "дисперсия: 30000.0\n"
     ]
    }
   ],
   "source": [
    "import numpy as np\n",
    "import math\n",
    "a=200\n",
    "b=800\n",
    "dx=(b-a)**2/12\n",
    "print('среднее:',(b+a)/2)\n",
    "print('дисперсия:',(b-a)**2/12)"
   ]
  },
  {
   "cell_type": "markdown",
   "metadata": {},
   "source": [
    "О случайной непрерывной равномерно распределенной величине B известно, что ее дисперсия равна 0.2.\n",
    "Можно ли найти правую границу величины B и ее среднее значение зная, что левая граница равна 0.5?\n",
    "Если да, найдите ее."
   ]
  },
  {
   "cell_type": "code",
   "execution_count": 6,
   "metadata": {},
   "outputs": [
    {
     "name": "stdout",
     "output_type": "stream",
     "text": [
      "дискриминант:  0.06666666666666667\n",
      "правое: 2.049193338482967\n",
      "среднее:  1.2745966692414834\n"
     ]
    }
   ],
   "source": [
    "from math import factorial\n",
    "from math import sqrt\n",
    "dx=0.2\n",
    "a=0.5\n",
    "# (b-0.5)^2/12-0.2=0\n",
    "# b^2/12-b/12-43/240=0\n",
    "\n",
    "# найдем дискриминант\n",
    "a1 = 1/12\n",
    "b1 = -1/12\n",
    "c1 = -43/240\n",
    "D = b1**2 - 4*a1*c1\n",
    "print('дискриминант: ',D)\n",
    "if D>0:\n",
    "    x1 = (-b1 +sqrt(D))/(2*a1) #str((-b1 +sqrt(D))/(2*a1))\n",
    "    x2 = str((-b1 -sqrt(D))/(2*a1))\n",
    "#     print('2 корня, х1 = '+ x1 +' x2 = '+x2)\n",
    "elif D == 0:\n",
    "    x1 = str(-b1/(2*a1))\n",
    "#     print('1 корень, х= '+x1)\n",
    "elif D<0:\n",
    "    print('дискриминант меньше нуля, корней нет')\n",
    "\n",
    "b=x1\n",
    "print('правое:', b)\n",
    "m=(b+a)/2\n",
    "print('среднее: ', m)\n"
   ]
  },
  {
   "attachments": {
    "%D0%B8%D0%B7%D0%BE%D0%B1%D1%80%D0%B0%D0%B6%D0%B5%D0%BD%D0%B8%D0%B5.png": {
     "image/png": "[encoded data removed]"
    }
   },
   "cell_type": "markdown",
   "metadata": {},
   "source": [
    "Непрерывная случайная величина X распределена нормально и задана плотностью распределения\n",
    "f(x) = (1 / (4 * sqrt(2*pi))) * (exp(-(x+2)**2) / 32).\n",
    "Найдите:\n",
    "а). M(X)\n",
    "б). D(X)\n",
    "в). std(X) (среднее квадратичное отклонение)\n",
    "![%D0%B8%D0%B7%D0%BE%D0%B1%D1%80%D0%B0%D0%B6%D0%B5%D0%BD%D0%B8%D0%B5.png](attachment:%D0%B8%D0%B7%D0%BE%D0%B1%D1%80%D0%B0%D0%B6%D0%B5%D0%BD%D0%B8%D0%B5.png)"
   ]
  },
  {
   "attachments": {
    "%D0%B8%D0%B7%D0%BE%D0%B1%D1%80%D0%B0%D0%B6%D0%B5%D0%BD%D0%B8%D0%B5.png": {
     "image/png": "[encoded data removed]"
    }
   },
   "cell_type": "markdown",
   "metadata": {},
   "source": [
    "![%D0%B8%D0%B7%D0%BE%D0%B1%D1%80%D0%B0%D0%B6%D0%B5%D0%BD%D0%B8%D0%B5.png](attachment:%D0%B8%D0%B7%D0%BE%D0%B1%D1%80%D0%B0%D0%B6%D0%B5%D0%BD%D0%B8%D0%B5.png)"
   ]
  },
  {
   "attachments": {
    "%D0%B8%D0%B7%D0%BE%D0%B1%D1%80%D0%B0%D0%B6%D0%B5%D0%BD%D0%B8%D0%B5.png": {
     "image/png": "[encoded data removed]"
    }
   },
   "cell_type": "markdown",
   "metadata": {},
   "source": [
    "![%D0%B8%D0%B7%D0%BE%D0%B1%D1%80%D0%B0%D0%B6%D0%B5%D0%BD%D0%B8%D0%B5.png](attachment:%D0%B8%D0%B7%D0%BE%D0%B1%D1%80%D0%B0%D0%B6%D0%B5%D0%BD%D0%B8%D0%B5.png)"
   ]
  },
  {
   "attachments": {
    "%D0%B8%D0%B7%D0%BE%D0%B1%D1%80%D0%B0%D0%B6%D0%B5%D0%BD%D0%B8%D0%B5.png": {
     "image/png": "[encoded data removed]"
    }
   },
   "cell_type": "markdown",
   "metadata": {},
   "source": [
    "![%D0%B8%D0%B7%D0%BE%D0%B1%D1%80%D0%B0%D0%B6%D0%B5%D0%BD%D0%B8%D0%B5.png](attachment:%D0%B8%D0%B7%D0%BE%D0%B1%D1%80%D0%B0%D0%B6%D0%B5%D0%BD%D0%B8%D0%B5.png)"
   ]
  },
  {
   "cell_type": "code",
   "execution_count": 7,
   "metadata": {},
   "outputs": [
    {
     "name": "stdout",
     "output_type": "stream",
     "text": [
      "-0.125\n",
      "b:  11.856406460551018\n",
      "M(X):  4.928203230275509\n",
      "D(X):  15.999999999999998\n",
      "среднее квадратичное отклонение:  3.9999999999999996\n"
     ]
    }
   ],
   "source": [
    "x=0\n",
    "print((-(x+2)*2) / 32)\n",
    "fx = (1 / (4 * sqrt(2*math.pi))) * math.exp((-(x+2)*2) / 32)\n",
    "sigma=4\n",
    "a=-2\n",
    "b=sqrt(192)-2 # (b+2)^2 / 12 = 4^2\n",
    "print('b: ',b)\n",
    "mx=(a+b)/2\n",
    "print('M(X): ',mx) # тут что-то не понял?\n",
    "dx=(b-a)**2/12\n",
    "print('D(X): ',dx)\n",
    "print('среднее квадратичное отклонение: ',sqrt(dx))"
   ]
  },
  {
   "cell_type": "markdown",
   "metadata": {},
   "source": [
    "Рост взрослого населения города X имеет нормальное распределение.\n",
    "Причем, средний рост равен 174 см, а среднее квадратичное отклонение равно 8 см.\n",
    "Какова вероятность того, что случайным образом выбранный взрослый человек имеет рост:\n",
    "а). больше 182 см\n",
    "б). больше 190 см\n",
    "в). от 166 см до 190 см\n",
    "г). от 166 см до 182 см\n",
    "д). от 158 см до 190 см\n",
    "е). не выше 150 см или не ниже 190 см\n",
    "ё). не выше 150 см или не ниже 198 см\n",
    "ж). ниже 166 см."
   ]
  },
  {
   "cell_type": "code",
   "execution_count": 8,
   "metadata": {},
   "outputs": [
    {
     "name": "stdout",
     "output_type": "stream",
     "text": [
      "больше 182 см:  0.8413447460685429\n",
      "больше 190 см:  0.9772498680518208\n",
      "от 166 см до 190 см:  0.8185946141203637\n",
      "от 166 см до 182 см:  0.6826894921370859\n",
      "от 158 см до 190 см:  0.9544997361036416\n",
      "не выше 150 см или не ниже 190 см:  0.024100029979809288\n",
      "не выше 150 см или не ниже 198 см:  0.0026997960632601866\n",
      "ниже 166 см:  0.15865525393145707\n"
     ]
    }
   ],
   "source": [
    "from scipy.stats import norm\n",
    "m=174\n",
    "sigma=8\n",
    "# a)\n",
    "print('больше 182 см: ', norm.cdf(1))\n",
    "print('больше 190 см: ', norm.cdf(2))\n",
    "print('от 166 см до 190 см: ', norm.cdf(2)-(norm.cdf(-1)))\n",
    "print('от 166 см до 182 см: ', norm.cdf(1)-(norm.cdf(-1)))\n",
    "print('от 158 см до 190 см: ', norm.cdf(2)-(norm.cdf(-2)))\n",
    "print('не выше 150 см или не ниже 190 см: ', norm.cdf(-3)+norm.cdf(-2))\n",
    "print('не выше 150 см или не ниже 198 см: ', norm.cdf(-3)*2)\n",
    "print('ниже 166 см: ', norm.cdf(-1))\n"
   ]
  },
  {
   "cell_type": "markdown",
   "metadata": {},
   "source": [
    "На сколько сигм (средних квадратичных отклонений) отклоняется рост человека, равный 190 см, от\n",
    "математического ожидания роста в популяции, в которой M(X) = 178 см и D(X) = 25 кв.см?"
   ]
  },
  {
   "cell_type": "code",
   "execution_count": 9,
   "metadata": {},
   "outputs": [
    {
     "name": "stdout",
     "output_type": "stream",
     "text": [
      "sigma:  5.0\n",
      "ответ:  2.4\n"
     ]
    }
   ],
   "source": [
    "m=178\n",
    "dx=25\n",
    "sigma=math.sqrt(dx)\n",
    "print('sigma: ', sigma)\n",
    "print('ответ: ', (190-m)/sigma)\n"
   ]
  }
 ],
 "metadata": {
  "kernelspec": {
   "display_name": "Python 3",
   "language": "python",
   "name": "python3"
  },
  "language_info": {
   "codemirror_mode": {
    "name": "ipython",
    "version": 3
   },
   "file_extension": ".py",
   "mimetype": "text/x-python",
   "name": "python",
   "nbconvert_exporter": "python",
   "pygments_lexer": "ipython3",
   "version": "3.7.4"
  }
 },
 "nbformat": 4,
 "nbformat_minor": 2
}
