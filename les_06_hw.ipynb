{
 "cells": [
  {
   "cell_type": "markdown",
   "metadata": {},
   "source": [
    "1) Даны значения величины заработной платы заемщиков банка (zp) и значения их поведенческого кредитного скоринга (ks):\n",
    "zp = [35, 45, 190, 200, 40, 70, 54, 150, 120, 110],\n",
    "ks = [401, 574, 874, 919, 459, 739, 653, 902, 746, 832].\n",
    "Найдите ковариацию этих двух величин с помощью элементарных действий, а затем с помощью функции cov из numpy\n",
    "Полученные значения должны быть равны.\n",
    "Найдите коэффициент корреляции Пирсона с помощью ковариации и среднеквадратичных отклонений двух признаков,\n",
    "а затем с использованием функций из библиотек numpy и pandas."
   ]
  },
  {
   "cell_type": "code",
   "execution_count": 259,
   "metadata": {},
   "outputs": [
    {
     "name": "stdout",
     "output_type": "stream",
     "text": [
      "коэф.covariation 9157.840000000002\n",
      "коэф.covariation 9157.839999999997\n",
      "59.115480206118605\n",
      "174.55340157098058\n",
      "коэффициент корреляции np      0.8874900920739164\n",
      "коэффициент корреляции Пирсона 0.8874900920739158\n",
      "коэффициент корреляции pd      0.8874900920739162\n"
     ]
    },
    {
     "name": "stderr",
     "output_type": "stream",
     "text": [
      "C:\\Users\\SidorenkoVA\\AppData\\Local\\Continuum\\anaconda3\\lib\\site-packages\\ipykernel_launcher.py:13: DeprecationWarning: bias and ddof have no effect and are deprecated\n",
      "  del sys.path[0]\n"
     ]
    }
   ],
   "source": [
    "import numpy as np\n",
    "import pandas as pd\n",
    "zp = np.array([35, 45, 190, 200, 40, 70, 54, 150, 120, 110])\n",
    "ks = np.array([401, 574, 874, 919, 459, 739, 653, 902, 746, 832])\n",
    "print('коэф.covariation',np.cov(zp,ks,ddof=0)[1,0])\n",
    "cov=np.mean(zp*ks)-np.mean(zp)*np.mean(ks)\n",
    "print('коэф.covariation',cov)\n",
    "\n",
    "print(np.std(zp))\n",
    "print(np.std(ks))\n",
    "\n",
    "df=pd.DataFrame({'zp': zp, 'ks': ks})\n",
    "print('коэффициент корреляции np     ',np.corrcoef(zp,ks,ddof=0)[1,0])\n",
    "print('коэффициент корреляции Пирсона',cov/(np.std(zp)*np.std(ks)))\n",
    "print('коэффициент корреляции pd     ',df.corr()['ks'][0])\n"
   ]
  },
  {
   "cell_type": "markdown",
   "metadata": {},
   "source": [
    "2) Измерены значения IQ выборки студентов,\n",
    "обучающихся в местных технических вузах:\n",
    "131, 125, 115, 122, 131, 115, 107, 99, 125, 111.\n",
    "Известно, что в генеральной совокупности IQ распределен нормально.\n",
    "Найдите доверительный интервал для математического ожидания с надежностью 0.95."
   ]
  },
  {
   "cell_type": "code",
   "execution_count": 273,
   "metadata": {},
   "outputs": [
    {
     "name": "stdout",
     "output_type": "stream",
     "text": [
      "решение:  110.55660776308164 : 125.64339223691834\n"
     ]
    }
   ],
   "source": [
    "IQ = np.array([131, 125, 115, 122, 131, 115, 107, 99, 125, 111])\n",
    "alfa=5\n",
    "n=10\n",
    "mu = IQ.mean()\n",
    "sigma = np.std(IQ, ddof = 1)\n",
    "t = 2.262\n",
    "print('решение: ',mu-t*sigma/math.sqrt(n),':',mu+t*sigma/math.sqrt(n))"
   ]
  },
  {
   "cell_type": "markdown",
   "metadata": {},
   "source": [
    "3) Известно, что рост футболистов в сборной распределен нормально\n",
    "с дисперсией генеральной совокупности, равной 25 кв.см. Объем выборки равен 27,\n",
    "среднее выборочное составляет 174.2. Найдите доверительный интервал для математического\n",
    "ожидания с надежностью 0.95."
   ]
  },
  {
   "cell_type": "code",
   "execution_count": 267,
   "metadata": {},
   "outputs": [
    {
     "name": "stdout",
     "output_type": "stream",
     "text": [
      "решение:  172.31398912064722 : 176.08601087935276\n"
     ]
    }
   ],
   "source": [
    "dx=25\n",
    "sigma=5\n",
    "n=27\n",
    "mu=174.2\n",
    "alfa=5\n",
    "\n",
    "Z=1.96 # по таблице Z\n",
    "print('решение: ',mu-Z*sigma/math.sqrt(n),':',mu+Z*sigma/math.sqrt(n))\n"
   ]
  },
  {
   "cell_type": "code",
   "execution_count": null,
   "metadata": {},
   "outputs": [],
   "source": []
  },
  {
   "cell_type": "code",
   "execution_count": null,
   "metadata": {},
   "outputs": [],
   "source": []
  },
  {
   "cell_type": "code",
   "execution_count": null,
   "metadata": {},
   "outputs": [],
   "source": []
  },
  {
   "cell_type": "code",
   "execution_count": null,
   "metadata": {},
   "outputs": [],
   "source": []
  }
 ],
 "metadata": {
  "kernelspec": {
   "display_name": "Python 3",
   "language": "python",
   "name": "python3"
  },
  "language_info": {
   "codemirror_mode": {
    "name": "ipython",
    "version": 3
   },
   "file_extension": ".py",
   "mimetype": "text/x-python",
   "name": "python",
   "nbconvert_exporter": "python",
   "pygments_lexer": "ipython3",
   "version": "3.7.6"
  }
 },
 "nbformat": 4,
 "nbformat_minor": 2
}
