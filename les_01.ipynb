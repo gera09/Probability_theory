{
 "cells": [
  {
   "cell_type": "markdown",
   "metadata": {},
   "source": [
    "# Все ответы вероятности даны в %, так мне легче осознать результат (т.е. *100).\n"
   ]
  },
  {
   "cell_type": "markdown",
   "metadata": {},
   "source": [
    "Урок 1.\n",
    "\n",
    "    Из колоды в 52 карты извлекаются случайным образом 4 карты. a) Найти вероятность того, что все карты – крести. б) Найти вероятность, что среди 4-х карт окажется хотя бы один туз."
   ]
  },
  {
   "cell_type": "code",
   "execution_count": 10,
   "metadata": {},
   "outputs": [
    {
     "name": "stdout",
     "output_type": "stream",
     "text": [
      "ace %:  0.0088650800\n",
      "baptize %:  0.26410564225690275\n"
     ]
    }
   ],
   "source": [
    "from math import factorial\n",
    "import math\n",
    "from decimal import *\n",
    "def combinations(n, k):\n",
    "    return int(factorial(n) / (factorial(k) * factorial(n - k)))\n",
    "cards=52 # всего карт в колоде\n",
    "hand=4 # количество карт выбираем\n",
    "baptize = 13\n",
    "ace = 4\n",
    "\n",
    "all_kombo=combinations(cards, hand)\n",
    "ace_kombo=factorial(ace)\n",
    "baptize_kombo=combinations(baptize, hand)\n",
    "print('ace %: ', round(Decimal(ace_kombo/all_kombo),10)*100) #тузы\n",
    "print('baptize %: ', baptize_kombo/all_kombo*100) # крести"
   ]
  },
  {
   "cell_type": "markdown",
   "metadata": {},
   "source": [
    "На входной двери подъезда установлен кодовый замок, содержащий десять кнопок с цифрами от 0 до 9. Код содержит три цифры, которые нужно нажать одновременно. Какова вероятность того, что человек, не знающий код, откроет дверь с первой попытки?"
   ]
  },
  {
   "cell_type": "code",
   "execution_count": 15,
   "metadata": {},
   "outputs": [
    {
     "name": "stdout",
     "output_type": "stream",
     "text": [
      "probability %:  0.8333333333333334\n"
     ]
    }
   ],
   "source": [
    "digit=10\n",
    "code=3\n",
    "attempts=1\n",
    "all_kombo=combinations(digit, code)\n",
    "print('probability %: ',attempts/all_kombo*100)"
   ]
  },
  {
   "cell_type": "markdown",
   "metadata": {},
   "source": [
    " В ящике имеется 15 деталей, из которых 9 окрашены. Рабочий случайным образом извлекает 3 детали. Какова вероятность того, что все извлеченные детали окрашены?   "
   ]
  },
  {
   "cell_type": "code",
   "execution_count": 19,
   "metadata": {},
   "outputs": [
    {
     "name": "stdout",
     "output_type": "stream",
     "text": [
      "ace %:  18.4615384600\n"
     ]
    }
   ],
   "source": [
    "details=15\n",
    "painted=9\n",
    "sample=3\n",
    "all_kombo=combinations(details, sample)\n",
    "painted_kombo=combinations(painted, sample)\n",
    "print('all painted %: ', round(Decimal(painted_kombo/all_kombo),10)*100)"
   ]
  },
  {
   "cell_type": "markdown",
   "metadata": {},
   "source": [
    " В лотерее 100 билетов. Из них 2 выигрышных. Какова вероятность того, что 2 приобретенных билета окажутся выигрышными?"
   ]
  },
  {
   "cell_type": "code",
   "execution_count": 25,
   "metadata": {},
   "outputs": [
    {
     "name": "stdout",
     "output_type": "stream",
     "text": [
      "all winning %:  0.01\n"
     ]
    }
   ],
   "source": [
    "tikets=100\n",
    "winning=2\n",
    "print('all winning %: ', (1/100*1/100)*100)"
   ]
  }
 ],
 "metadata": {
  "kernelspec": {
   "display_name": "Python 3",
   "language": "python",
   "name": "python3"
  },
  "language_info": {
   "codemirror_mode": {
    "name": "ipython",
    "version": 3
   },
   "file_extension": ".py",
   "mimetype": "text/x-python",
   "name": "python",
   "nbconvert_exporter": "python",
   "pygments_lexer": "ipython3",
   "version": "3.7.4"
  }
 },
 "nbformat": 4,
 "nbformat_minor": 2
}
