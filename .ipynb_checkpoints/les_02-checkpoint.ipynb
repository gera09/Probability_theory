{
 "cells": [
  {
   "cell_type": "markdown",
   "metadata": {},
   "source": [
    "# Все ответы вероятности даны в %, так мне легче осознать результат (т.е. *100).\n",
    "\n"
   ]
  },
  {
   "cell_type": "markdown",
   "metadata": {},
   "source": [
    "Урок 2.\n",
    "\n",
    "    Вероятность того, что стрелок попадет в мишень, выстрелив один раз, равна 0.8. Стрелок выстрелил 100 раз. Найдите вероятность того, что стрелок попадет в цель ровно 85 раз."
   ]
  },
  {
   "attachments": {
    "%D0%B8%D0%B7%D0%BE%D0%B1%D1%80%D0%B0%D0%B6%D0%B5%D0%BD%D0%B8%D0%B5.png": {
     "image/png": "[encoded data removed]"
    }
   },
   "cell_type": "markdown",
   "metadata": {},
   "source": [
    "![%D0%B8%D0%B7%D0%BE%D0%B1%D1%80%D0%B0%D0%B6%D0%B5%D0%BD%D0%B8%D0%B5.png](attachment:%D0%B8%D0%B7%D0%BE%D0%B1%D1%80%D0%B0%D0%B6%D0%B5%D0%BD%D0%B8%D0%B5.png)"
   ]
  },
  {
   "attachments": {
    "%D0%B8%D0%B7%D0%BE%D0%B1%D1%80%D0%B0%D0%B6%D0%B5%D0%BD%D0%B8%D0%B5.png": {
     "image/png": "[encoded data removed]"
    }
   },
   "cell_type": "markdown",
   "metadata": {},
   "source": [
    "![%D0%B8%D0%B7%D0%BE%D0%B1%D1%80%D0%B0%D0%B6%D0%B5%D0%BD%D0%B8%D0%B5.png](attachment:%D0%B8%D0%B7%D0%BE%D0%B1%D1%80%D0%B0%D0%B6%D0%B5%D0%BD%D0%B8%D0%B5.png)"
   ]
  },
  {
   "cell_type": "code",
   "execution_count": 7,
   "metadata": {},
   "outputs": [
    {
     "name": "stdout",
     "output_type": "stream",
     "text": [
      "probability %:  3.7092614343691794\n",
      "верное решение 4.806179370074635\n"
     ]
    }
   ],
   "source": [
    "from math import factorial\n",
    "import numpy as np\n",
    "def combinations(n, k):\n",
    "    return int(factorial(n) / (factorial(k) * factorial(n - k)))\n",
    "\n",
    "n=100\n",
    "m=85\n",
    "p=0.8\n",
    "lambda_ = n * p\n",
    "\n",
    "print('probability %: ',(lambda_**m / np.math.factorial(m)) * np.exp(-lambda_)*100)\n",
    "\n",
    "# верное решение (по формуле бернулли):\n",
    "k=85\n",
    "print('верное решение %',combinations(n,k) * p**k * (1-p)**(n-k)*100)"
   ]
  },
  {
   "cell_type": "markdown",
   "metadata": {},
   "source": [
    " Вероятность того, что лампочка перегорит в течение первого дня эксплуатации, равна 0.0004. В жилом комплексе после ремонта в один день включили 5000 новых лампочек. Какова вероятность, что ни одна из них не перегорит в первый день? Какова вероятность, что перегорят ровно две?    "
   ]
  },
  {
   "cell_type": "code",
   "execution_count": 8,
   "metadata": {},
   "outputs": [
    {
     "name": "stdout",
     "output_type": "stream",
     "text": [
      "lambda__:  2.0\n",
      "probability_one_lamp %:  13.53352832366127\n",
      "probability_two_lamp %:  27.06705664732254\n"
     ]
    }
   ],
   "source": [
    "n=5000\n",
    "m1=0 # ни одна не перегорит\n",
    "m2=2 # две перегорит\n",
    "p=0.0004 # one lamp\n",
    "lambda_ = n * p\n",
    "print('lambda__: ',lambda_)\n",
    "print('probability_one_lamp %: ',(lambda_**m1 / np.math.factorial(m1)) * np.exp(-lambda_)*100)\n",
    "print('probability_two_lamp %: ',(lambda_**m2 / np.math.factorial(m2)) * np.exp(-lambda_)*100)\n",
    "# ответы одинаковые таже из-за дискретности? Одна-две лампы это пик вероятности?"
   ]
  },
  {
   "cell_type": "markdown",
   "metadata": {},
   "source": [
    "Монету подбросили 144 раза. Какова вероятность, что орел выпадет ровно 70 раз?\n",
    "    "
   ]
  },
  {
   "cell_type": "code",
   "execution_count": 11,
   "metadata": {},
   "outputs": [
    {
     "name": "stdout",
     "output_type": "stream",
     "text": [
      "probability %:  4.696141402370312\n",
      "верное решение %: 6.281178035144776\n"
     ]
    }
   ],
   "source": [
    "n=144\n",
    "m=72\n",
    "p=0.5 # орел\n",
    "lambda_ = n * p\n",
    "print('probability %: ',(lambda_**m / np.math.factorial(m)) * np.exp(-lambda_)*100)\n",
    "# почему максимальная вероятность на 71 и 72, а не 72 и 73?\n",
    "\n",
    "# правильное решение (по формуле бернулли)\n",
    "q= 1/2\n",
    "k=70\n",
    "print('верное решение %:',combinations(n,k) * p**k * (1-p)**(n-k)*100)"
   ]
  },
  {
   "cell_type": "markdown",
   "metadata": {},
   "source": [
    "В первом ящике находится 10 мячей, из которых 7 - белые. Во втором ящике - 11 мячей, из которых 9 белых. Из каждого ящика вытаскивают случайным образом по два мяча. Какова вероятность того, что все мячи белые? Какова вероятность того, что ровно два мяча белые? Какова вероятность того, что хотя бы один мяч белый?"
   ]
  },
  {
   "cell_type": "code",
   "execution_count": 4,
   "metadata": {},
   "outputs": [
    {
     "name": "stdout",
     "output_type": "stream",
     "text": [
      "все белые шары:  0.3054545454545454\n",
      "все белые шары через комбинаторику:  0.3054545454545455\n",
      "как минимум один белый шар:  0.9987878787878788\n",
      "как минимум один белый шар через комбинаторику:  0.9987878787878788\n",
      "как минимум один белый шар через комбинаторику решение препода:  0.9987878787878788\n",
      "\n",
      "0.008484848484848486\n",
      "0.04363636363636363\n",
      "0.15272727272727274\n",
      "два шара белые:  0.20484848484848486\n",
      "0.008484848484848482\n",
      "0.04363636363636363\n",
      "0.1527272727272727\n",
      "два шара белые (с помощью условной вероятности):  0.20484848484848484\n"
     ]
    }
   ],
   "source": [
    "# тут ответ не в %!!! \n",
    "n1=10\n",
    "m1=7\n",
    "n2=11\n",
    "m2=9\n",
    "\n",
    "from math import factorial\n",
    "import math\n",
    "from decimal import *\n",
    "def combinations(n, k):\n",
    "    return int(factorial(n) / (factorial(k) * factorial(n - k)))\n",
    "n1=10 # 1 ящик\n",
    "n2=11 # 2 ящик\n",
    "k1=2 # шары\n",
    "k2=2 # шары\n",
    "white1=7\n",
    "white2=9\n",
    "\n",
    "\n",
    "print('все белые шары: ',7/10*6/9*9/11*8/10) # все белые шары\n",
    "print('все белые шары через комбинаторику: ',combinations(7,2)/combinations(10,2)*combinations(9,2)/combinations(11,2))\n",
    "\n",
    "print('как минимум один белый шар: ',1-3/10*2/9*2/11*1/10) # как минимум один белый шар!!!\n",
    "print('как минимум один белый шар через комбинаторику: ',1-combinations(3,2)*combinations(2,2)/(combinations(10,2)*combinations(11,2))) # как минимум один белый шар!!!\n",
    "print('как минимум один белый шар через комбинаторику решение препода: ',\n",
    "      1-combinations(3,2)/combinations(10,2)*combinations(2,2)/combinations(11,2)) # как минимум один белый шар!!!\n",
    "\n",
    "# print('один не белый: ',1-7/10*6/9*9/11*8/10) # один не белый\n",
    "# print('один не белый: ',1-7/10*6/9*9/11*8/10) # один не белый\n",
    "\n",
    "print()\n",
    "# два шара белые из трех событий: бб-чч, чч-бб, бч-бч (тут порядок шаров не важен, поэтому только один случай)\n",
    "p1 = (combinations(7,2)/combinations(10,2)*combinations(2,2)/combinations(11,2))# бб-чч\n",
    "p2 = (combinations(3,2)/combinations(10,2)*combinations(9,2)/combinations(11,2))# чч-бб\n",
    "p3 = (combinations(7,1)*combinations(3,1)/combinations(10,2) * combinations(2,1)*combinations(9,1)/combinations(11,2))# бч-бч \n",
    "print(p1)\n",
    "print(p2)\n",
    "print(p3)\n",
    "print('два шара белые: ',p1+p2+p3)\n",
    "\n",
    "p1= 7/10*6/9*2/11/1/10 # бб-чч\n",
    "p2= 3/10*2/9*9/11*8/10 # чч-бб\n",
    "p3= (7/10*3/9+3/10*7/9) * (9/11*2/10+2/11*9/10) # бч-бч с учетом порядка будет для каждого ящика по два случая (бч и чб), которые нужно суммировать!\n",
    "print(p1)\n",
    "print(p2)\n",
    "print(p3)\n",
    "print('два шара белые (с помощью условной вероятности): ',p1+p2+p3)\n",
    "\n"
   ]
  }
 ],
 "metadata": {
  "kernelspec": {
   "display_name": "Python 3",
   "language": "python",
   "name": "python3"
  },
  "language_info": {
   "codemirror_mode": {
    "name": "ipython",
    "version": 3
   },
   "file_extension": ".py",
   "mimetype": "text/x-python",
   "name": "python",
   "nbconvert_exporter": "python",
   "pygments_lexer": "ipython3",
   "version": "3.7.4"
  }
 },
 "nbformat": 4,
 "nbformat_minor": 2
}
