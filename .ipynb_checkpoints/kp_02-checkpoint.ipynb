{
 "cells": [
  {
   "cell_type": "markdown",
   "metadata": {},
   "source": [
    "<h4>\n",
    "    1. Сделать EDA (Exploratory Data Analysis – разведочный анализ данных).\n",
    "\n",
    "2. Проверить статистическую гипотезу: жанр комедия имеет самую высокую оценку с доверительным интервалом 99%.\n",
    "\n",
    "3. Проверить гипотезу: жанр комедия до 1990 года оценки были ниже с alpha=5).\n",
    "\n",
    "Проверить, работает ли нормальное распределение и Паретто \n",
    "    (с Паретто я не смог справиться, а нормальное распределение только на графике оценил, при чем мне не понятно где границы нормальности, что можно считать нормальным, а что нет?).\n",
    "    \n",
    "Прогноз выхода новых фильмов в год по жанрам (сверить с фактом)."
   ]
  },
  {
   "cell_type": "code",
   "execution_count": 1,
   "metadata": {},
   "outputs": [],
   "source": [
    "import zipfile\n",
    "import pandas as pd\n",
    "import scipy.stats as stats\n",
    "import matplotlib.pyplot as plt\n",
    "import matplotlib\n",
    "import numpy as np\n",
    "import pylab\n",
    "from math import sqrt\n",
    "import math\n",
    "import re"
   ]
  },
  {
   "cell_type": "code",
   "execution_count": 2,
   "metadata": {},
   "outputs": [
    {
     "data": {
      "text/plain": [
       "True"
      ]
     },
     "execution_count": 2,
     "metadata": {},
     "output_type": "execute_result"
    }
   ],
   "source": [
    "path='C:\\Datasets\\imdb-dataset.zip'\n",
    "zipfile.is_zipfile(path)"
   ]
  },
  {
   "cell_type": "code",
   "execution_count": 3,
   "metadata": {},
   "outputs": [
    {
     "name": "stdout",
     "output_type": "stream",
     "text": [
      "File Name                                             Modified             Size\n",
      "name.basics.tsv.gz                             2019-11-21 01:48:02    189064698\n",
      "name.basics.tsv/name.basics.tsv                2019-11-21 01:48:26    579743523\n",
      "title.akas.tsv.gz                              2019-11-21 01:49:28    165858663\n",
      "title.akas.tsv/title.akas.tsv                  2019-11-21 01:49:48    968364191\n",
      "title.basics.tsv.gz                            2019-11-21 01:51:02    112880732\n",
      "title.basics.tsv/title.basics.tsv              2019-11-21 01:51:16    537058740\n",
      "title.principals.tsv.gz                        2019-11-21 01:52:04    303974963\n",
      "title.principals.tsv/title.principals.tsv      2019-11-21 01:52:38   1620914382\n",
      "title.ratings.tsv.gz                           2019-11-21 01:54:52      4906172\n",
      "title.ratings.tsv/title.ratings.tsv            2019-11-21 01:54:52     16895600\n"
     ]
    }
   ],
   "source": [
    "z = zipfile.ZipFile(path, 'r')\n",
    "z.printdir()"
   ]
  },
  {
   "cell_type": "code",
   "execution_count": 4,
   "metadata": {},
   "outputs": [],
   "source": [
    "# z.extractall()\n",
    "# z.close()\n",
    "# import sys\n",
    "# sys.version"
   ]
  },
  {
   "cell_type": "markdown",
   "metadata": {},
   "source": [
    "<h3> EDA (Exploratory Data Analysis – разведочный анализ данных)"
   ]
  },
  {
   "cell_type": "markdown",
   "metadata": {},
   "source": [
    "<h4> исследования по странам не провожу - не увидел там интересной информации: df_akas\n",
    "***"
   ]
  },
  {
   "cell_type": "code",
   "execution_count": 5,
   "metadata": {},
   "outputs": [],
   "source": [
    "# df_akas = pd.read_csv(path_exr + r\"\\title.akas.tsv.gz\", sep=\"\\t\",compression='gzip',\n",
    "#                          quotechar='\"', error_bad_lines=False)\n",
    "# df_akas\n",
    "# df_akas.loc[df_akas['region'] == 'US']\n",
    "# регион, язык, количество стран"
   ]
  },
  {
   "cell_type": "code",
   "execution_count": 6,
   "metadata": {},
   "outputs": [],
   "source": [
    "# import pandas_profiling as pf # пробовать в будущем (авто анализ данных от python), почему-то вылетает с ошибкой\n",
    "# pf.ProfileReport(df_ratings)"
   ]
  },
  {
   "cell_type": "markdown",
   "metadata": {},
   "source": [
    "<h4> импортирую датасеты и смотрю их содержимое (4 штуки)"
   ]
  },
  {
   "cell_type": "code",
   "execution_count": 7,
   "metadata": {},
   "outputs": [
    {
     "data": {
      "text/html": [
       "<div>\n",
       "<style scoped>\n",
       "    .dataframe tbody tr th:only-of-type {\n",
       "        vertical-align: middle;\n",
       "    }\n",
       "\n",
       "    .dataframe tbody tr th {\n",
       "        vertical-align: top;\n",
       "    }\n",
       "\n",
       "    .dataframe thead th {\n",
       "        text-align: right;\n",
       "    }\n",
       "</style>\n",
       "<table border=\"1\" class=\"dataframe\">\n",
       "  <thead>\n",
       "    <tr style=\"text-align: right;\">\n",
       "      <th></th>\n",
       "      <th>tconst</th>\n",
       "      <th>averageRating</th>\n",
       "      <th>numVotes</th>\n",
       "    </tr>\n",
       "  </thead>\n",
       "  <tbody>\n",
       "    <tr>\n",
       "      <th>0</th>\n",
       "      <td>tt0000001</td>\n",
       "      <td>5.6</td>\n",
       "      <td>1550</td>\n",
       "    </tr>\n",
       "    <tr>\n",
       "      <th>1</th>\n",
       "      <td>tt0000002</td>\n",
       "      <td>6.1</td>\n",
       "      <td>186</td>\n",
       "    </tr>\n",
       "    <tr>\n",
       "      <th>2</th>\n",
       "      <td>tt0000003</td>\n",
       "      <td>6.5</td>\n",
       "      <td>1207</td>\n",
       "    </tr>\n",
       "    <tr>\n",
       "      <th>3</th>\n",
       "      <td>tt0000004</td>\n",
       "      <td>6.2</td>\n",
       "      <td>113</td>\n",
       "    </tr>\n",
       "    <tr>\n",
       "      <th>4</th>\n",
       "      <td>tt0000005</td>\n",
       "      <td>6.1</td>\n",
       "      <td>1934</td>\n",
       "    </tr>\n",
       "  </tbody>\n",
       "</table>\n",
       "</div>"
      ],
      "text/plain": [
       "      tconst  averageRating  numVotes\n",
       "0  tt0000001            5.6      1550\n",
       "1  tt0000002            6.1       186\n",
       "2  tt0000003            6.5      1207\n",
       "3  tt0000004            6.2       113\n",
       "4  tt0000005            6.1      1934"
      ]
     },
     "execution_count": 7,
     "metadata": {},
     "output_type": "execute_result"
    }
   ],
   "source": [
    "path_exr=r'C:\\Datasets\\imdb-dataset'\n",
    "# df_ratings = pd.read_csv(path_exr + r\"\\title.ratings.tsv\\title.ratings.tsv\", sep=\"\\t\")\n",
    "df_ratings = pd.read_csv(path_exr + r\"\\title.ratings.tsv.gz\", sep=\"\\t\",compression='gzip',\n",
    "                         quotechar='\"', error_bad_lines=False)\n",
    "df_ratings.head()\n",
    "# рейтинг"
   ]
  },
  {
   "cell_type": "code",
   "execution_count": 8,
   "metadata": {},
   "outputs": [
    {
     "data": {
      "text/html": [
       "<div>\n",
       "<style scoped>\n",
       "    .dataframe tbody tr th:only-of-type {\n",
       "        vertical-align: middle;\n",
       "    }\n",
       "\n",
       "    .dataframe tbody tr th {\n",
       "        vertical-align: top;\n",
       "    }\n",
       "\n",
       "    .dataframe thead th {\n",
       "        text-align: right;\n",
       "    }\n",
       "</style>\n",
       "<table border=\"1\" class=\"dataframe\">\n",
       "  <thead>\n",
       "    <tr style=\"text-align: right;\">\n",
       "      <th></th>\n",
       "      <th>nconst</th>\n",
       "      <th>primaryName</th>\n",
       "      <th>birthYear</th>\n",
       "      <th>deathYear</th>\n",
       "      <th>primaryProfession</th>\n",
       "      <th>knownForTitles</th>\n",
       "    </tr>\n",
       "  </thead>\n",
       "  <tbody>\n",
       "    <tr>\n",
       "      <th>0</th>\n",
       "      <td>nm0000001</td>\n",
       "      <td>Fred Astaire</td>\n",
       "      <td>1899</td>\n",
       "      <td>1987</td>\n",
       "      <td>soundtrack,actor,miscellaneous</td>\n",
       "      <td>tt0050419,tt0053137,tt0043044,tt0072308</td>\n",
       "    </tr>\n",
       "    <tr>\n",
       "      <th>1</th>\n",
       "      <td>nm0000002</td>\n",
       "      <td>Lauren Bacall</td>\n",
       "      <td>1924</td>\n",
       "      <td>2014</td>\n",
       "      <td>actress,soundtrack</td>\n",
       "      <td>tt0117057,tt0037382,tt0071877,tt0038355</td>\n",
       "    </tr>\n",
       "    <tr>\n",
       "      <th>2</th>\n",
       "      <td>nm0000003</td>\n",
       "      <td>Brigitte Bardot</td>\n",
       "      <td>1934</td>\n",
       "      <td>\\N</td>\n",
       "      <td>actress,soundtrack,producer</td>\n",
       "      <td>tt0049189,tt0059956,tt0054452,tt0057345</td>\n",
       "    </tr>\n",
       "    <tr>\n",
       "      <th>3</th>\n",
       "      <td>nm0000004</td>\n",
       "      <td>John Belushi</td>\n",
       "      <td>1949</td>\n",
       "      <td>1982</td>\n",
       "      <td>actor,writer,soundtrack</td>\n",
       "      <td>tt0078723,tt0080455,tt0072562,tt0077975</td>\n",
       "    </tr>\n",
       "    <tr>\n",
       "      <th>4</th>\n",
       "      <td>nm0000005</td>\n",
       "      <td>Ingmar Bergman</td>\n",
       "      <td>1918</td>\n",
       "      <td>2007</td>\n",
       "      <td>writer,director,actor</td>\n",
       "      <td>tt0050986,tt0083922,tt0069467,tt0050976</td>\n",
       "    </tr>\n",
       "  </tbody>\n",
       "</table>\n",
       "</div>"
      ],
      "text/plain": [
       "      nconst      primaryName birthYear deathYear  \\\n",
       "0  nm0000001     Fred Astaire      1899      1987   \n",
       "1  nm0000002    Lauren Bacall      1924      2014   \n",
       "2  nm0000003  Brigitte Bardot      1934        \\N   \n",
       "3  nm0000004     John Belushi      1949      1982   \n",
       "4  nm0000005   Ingmar Bergman      1918      2007   \n",
       "\n",
       "                primaryProfession                           knownForTitles  \n",
       "0  soundtrack,actor,miscellaneous  tt0050419,tt0053137,tt0043044,tt0072308  \n",
       "1              actress,soundtrack  tt0117057,tt0037382,tt0071877,tt0038355  \n",
       "2     actress,soundtrack,producer  tt0049189,tt0059956,tt0054452,tt0057345  \n",
       "3         actor,writer,soundtrack  tt0078723,tt0080455,tt0072562,tt0077975  \n",
       "4           writer,director,actor  tt0050986,tt0083922,tt0069467,tt0050976  "
      ]
     },
     "execution_count": 8,
     "metadata": {},
     "output_type": "execute_result"
    }
   ],
   "source": [
    "df_name = pd.read_csv(path_exr + r\"\\name.basics.tsv.gz\", sep=\"\\t\",compression='gzip',\n",
    "                         quotechar='\"', error_bad_lines=False)\n",
    "df_name.head()\n",
    "# актеры, имя, смерть, рождение, профессия"
   ]
  },
  {
   "cell_type": "code",
   "execution_count": 9,
   "metadata": {},
   "outputs": [
    {
     "name": "stderr",
     "output_type": "stream",
     "text": [
      "C:\\Users\\SidorenkoVA\\Anaconda3\\lib\\site-packages\\IPython\\core\\interactiveshell.py:3063: DtypeWarning: Columns (5) have mixed types.Specify dtype option on import or set low_memory=False.\n",
      "  interactivity=interactivity, compiler=compiler, result=result)\n"
     ]
    },
    {
     "data": {
      "text/html": [
       "<div>\n",
       "<style scoped>\n",
       "    .dataframe tbody tr th:only-of-type {\n",
       "        vertical-align: middle;\n",
       "    }\n",
       "\n",
       "    .dataframe tbody tr th {\n",
       "        vertical-align: top;\n",
       "    }\n",
       "\n",
       "    .dataframe thead th {\n",
       "        text-align: right;\n",
       "    }\n",
       "</style>\n",
       "<table border=\"1\" class=\"dataframe\">\n",
       "  <thead>\n",
       "    <tr style=\"text-align: right;\">\n",
       "      <th></th>\n",
       "      <th>tconst</th>\n",
       "      <th>titleType</th>\n",
       "      <th>primaryTitle</th>\n",
       "      <th>originalTitle</th>\n",
       "      <th>isAdult</th>\n",
       "      <th>startYear</th>\n",
       "      <th>endYear</th>\n",
       "      <th>runtimeMinutes</th>\n",
       "      <th>genres</th>\n",
       "    </tr>\n",
       "  </thead>\n",
       "  <tbody>\n",
       "    <tr>\n",
       "      <th>0</th>\n",
       "      <td>tt0000001</td>\n",
       "      <td>short</td>\n",
       "      <td>Carmencita</td>\n",
       "      <td>Carmencita</td>\n",
       "      <td>0</td>\n",
       "      <td>1894</td>\n",
       "      <td>\\N</td>\n",
       "      <td>1</td>\n",
       "      <td>Documentary,Short</td>\n",
       "    </tr>\n",
       "    <tr>\n",
       "      <th>1</th>\n",
       "      <td>tt0000002</td>\n",
       "      <td>short</td>\n",
       "      <td>Le clown et ses chiens</td>\n",
       "      <td>Le clown et ses chiens</td>\n",
       "      <td>0</td>\n",
       "      <td>1892</td>\n",
       "      <td>\\N</td>\n",
       "      <td>5</td>\n",
       "      <td>Animation,Short</td>\n",
       "    </tr>\n",
       "    <tr>\n",
       "      <th>2</th>\n",
       "      <td>tt0000003</td>\n",
       "      <td>short</td>\n",
       "      <td>Pauvre Pierrot</td>\n",
       "      <td>Pauvre Pierrot</td>\n",
       "      <td>0</td>\n",
       "      <td>1892</td>\n",
       "      <td>\\N</td>\n",
       "      <td>4</td>\n",
       "      <td>Animation,Comedy,Romance</td>\n",
       "    </tr>\n",
       "    <tr>\n",
       "      <th>3</th>\n",
       "      <td>tt0000004</td>\n",
       "      <td>short</td>\n",
       "      <td>Un bon bock</td>\n",
       "      <td>Un bon bock</td>\n",
       "      <td>0</td>\n",
       "      <td>1892</td>\n",
       "      <td>\\N</td>\n",
       "      <td>\\N</td>\n",
       "      <td>Animation,Short</td>\n",
       "    </tr>\n",
       "    <tr>\n",
       "      <th>4</th>\n",
       "      <td>tt0000005</td>\n",
       "      <td>short</td>\n",
       "      <td>Blacksmith Scene</td>\n",
       "      <td>Blacksmith Scene</td>\n",
       "      <td>0</td>\n",
       "      <td>1893</td>\n",
       "      <td>\\N</td>\n",
       "      <td>1</td>\n",
       "      <td>Comedy,Short</td>\n",
       "    </tr>\n",
       "  </tbody>\n",
       "</table>\n",
       "</div>"
      ],
      "text/plain": [
       "      tconst titleType            primaryTitle           originalTitle  \\\n",
       "0  tt0000001     short              Carmencita              Carmencita   \n",
       "1  tt0000002     short  Le clown et ses chiens  Le clown et ses chiens   \n",
       "2  tt0000003     short          Pauvre Pierrot          Pauvre Pierrot   \n",
       "3  tt0000004     short             Un bon bock             Un bon bock   \n",
       "4  tt0000005     short        Blacksmith Scene        Blacksmith Scene   \n",
       "\n",
       "   isAdult startYear endYear runtimeMinutes                    genres  \n",
       "0        0      1894      \\N              1         Documentary,Short  \n",
       "1        0      1892      \\N              5           Animation,Short  \n",
       "2        0      1892      \\N              4  Animation,Comedy,Romance  \n",
       "3        0      1892      \\N             \\N           Animation,Short  \n",
       "4        0      1893      \\N              1              Comedy,Short  "
      ]
     },
     "execution_count": 9,
     "metadata": {},
     "output_type": "execute_result"
    }
   ],
   "source": [
    "df_bas = pd.read_csv(path_exr + r\"\\title.basics.tsv.gz\", sep=\"\\t\",compression='gzip',\n",
    "                         quotechar='\"', error_bad_lines=False)\n",
    "df_bas.head()\n",
    "# год выпуска, жанры, формат, название, время фильма"
   ]
  },
  {
   "cell_type": "code",
   "execution_count": 10,
   "metadata": {},
   "outputs": [
    {
     "data": {
      "text/html": [
       "<div>\n",
       "<style scoped>\n",
       "    .dataframe tbody tr th:only-of-type {\n",
       "        vertical-align: middle;\n",
       "    }\n",
       "\n",
       "    .dataframe tbody tr th {\n",
       "        vertical-align: top;\n",
       "    }\n",
       "\n",
       "    .dataframe thead th {\n",
       "        text-align: right;\n",
       "    }\n",
       "</style>\n",
       "<table border=\"1\" class=\"dataframe\">\n",
       "  <thead>\n",
       "    <tr style=\"text-align: right;\">\n",
       "      <th></th>\n",
       "      <th>tconst</th>\n",
       "      <th>ordering</th>\n",
       "      <th>nconst</th>\n",
       "      <th>category</th>\n",
       "      <th>job</th>\n",
       "      <th>characters</th>\n",
       "    </tr>\n",
       "  </thead>\n",
       "  <tbody>\n",
       "    <tr>\n",
       "      <th>0</th>\n",
       "      <td>tt0000001</td>\n",
       "      <td>1</td>\n",
       "      <td>nm1588970</td>\n",
       "      <td>self</td>\n",
       "      <td>\\N</td>\n",
       "      <td>[\"Herself\"]</td>\n",
       "    </tr>\n",
       "    <tr>\n",
       "      <th>1</th>\n",
       "      <td>tt0000001</td>\n",
       "      <td>2</td>\n",
       "      <td>nm0005690</td>\n",
       "      <td>director</td>\n",
       "      <td>\\N</td>\n",
       "      <td>\\N</td>\n",
       "    </tr>\n",
       "    <tr>\n",
       "      <th>2</th>\n",
       "      <td>tt0000001</td>\n",
       "      <td>3</td>\n",
       "      <td>nm0374658</td>\n",
       "      <td>cinematographer</td>\n",
       "      <td>director of photography</td>\n",
       "      <td>\\N</td>\n",
       "    </tr>\n",
       "    <tr>\n",
       "      <th>3</th>\n",
       "      <td>tt0000002</td>\n",
       "      <td>1</td>\n",
       "      <td>nm0721526</td>\n",
       "      <td>director</td>\n",
       "      <td>\\N</td>\n",
       "      <td>\\N</td>\n",
       "    </tr>\n",
       "    <tr>\n",
       "      <th>4</th>\n",
       "      <td>tt0000002</td>\n",
       "      <td>2</td>\n",
       "      <td>nm1335271</td>\n",
       "      <td>composer</td>\n",
       "      <td>\\N</td>\n",
       "      <td>\\N</td>\n",
       "    </tr>\n",
       "  </tbody>\n",
       "</table>\n",
       "</div>"
      ],
      "text/plain": [
       "      tconst  ordering     nconst         category                      job  \\\n",
       "0  tt0000001         1  nm1588970             self                       \\N   \n",
       "1  tt0000001         2  nm0005690         director                       \\N   \n",
       "2  tt0000001         3  nm0374658  cinematographer  director of photography   \n",
       "3  tt0000002         1  nm0721526         director                       \\N   \n",
       "4  tt0000002         2  nm1335271         composer                       \\N   \n",
       "\n",
       "    characters  \n",
       "0  [\"Herself\"]  \n",
       "1           \\N  \n",
       "2           \\N  \n",
       "3           \\N  \n",
       "4           \\N  "
      ]
     },
     "execution_count": 10,
     "metadata": {},
     "output_type": "execute_result"
    }
   ],
   "source": [
    "df_prin = pd.read_csv(path_exr + r\"\\title.principals.tsv.gz\", sep=\"\\t\",compression='gzip',\n",
    "                         quotechar='\"', error_bad_lines=False)\n",
    "df_prin.head()\n",
    "# связь с людьми"
   ]
  },
  {
   "cell_type": "markdown",
   "metadata": {},
   "source": [
    "<h4> объединяю датасеты в один (два - еще один с уникальными фильмами) для анализа"
   ]
  },
  {
   "cell_type": "code",
   "execution_count": 11,
   "metadata": {
    "scrolled": true
   },
   "outputs": [
    {
     "name": "stdout",
     "output_type": "stream",
     "text": [
      "(993821, 11)\n"
     ]
    },
    {
     "data": {
      "text/html": [
       "<div>\n",
       "<style scoped>\n",
       "    .dataframe tbody tr th:only-of-type {\n",
       "        vertical-align: middle;\n",
       "    }\n",
       "\n",
       "    .dataframe tbody tr th {\n",
       "        vertical-align: top;\n",
       "    }\n",
       "\n",
       "    .dataframe thead th {\n",
       "        text-align: right;\n",
       "    }\n",
       "</style>\n",
       "<table border=\"1\" class=\"dataframe\">\n",
       "  <thead>\n",
       "    <tr style=\"text-align: right;\">\n",
       "      <th></th>\n",
       "      <th>tconst</th>\n",
       "      <th>averageRating</th>\n",
       "      <th>numVotes</th>\n",
       "      <th>titleType</th>\n",
       "      <th>primaryTitle</th>\n",
       "      <th>originalTitle</th>\n",
       "      <th>isAdult</th>\n",
       "      <th>startYear</th>\n",
       "      <th>endYear</th>\n",
       "      <th>runtimeMinutes</th>\n",
       "      <th>genres</th>\n",
       "    </tr>\n",
       "  </thead>\n",
       "  <tbody>\n",
       "    <tr>\n",
       "      <th>0</th>\n",
       "      <td>tt0000001</td>\n",
       "      <td>5.6</td>\n",
       "      <td>1550</td>\n",
       "      <td>short</td>\n",
       "      <td>Carmencita</td>\n",
       "      <td>Carmencita</td>\n",
       "      <td>0</td>\n",
       "      <td>1894</td>\n",
       "      <td>\\N</td>\n",
       "      <td>1</td>\n",
       "      <td>Documentary,Short</td>\n",
       "    </tr>\n",
       "    <tr>\n",
       "      <th>1</th>\n",
       "      <td>tt0000002</td>\n",
       "      <td>6.1</td>\n",
       "      <td>186</td>\n",
       "      <td>short</td>\n",
       "      <td>Le clown et ses chiens</td>\n",
       "      <td>Le clown et ses chiens</td>\n",
       "      <td>0</td>\n",
       "      <td>1892</td>\n",
       "      <td>\\N</td>\n",
       "      <td>5</td>\n",
       "      <td>Animation,Short</td>\n",
       "    </tr>\n",
       "    <tr>\n",
       "      <th>2</th>\n",
       "      <td>tt0000003</td>\n",
       "      <td>6.5</td>\n",
       "      <td>1207</td>\n",
       "      <td>short</td>\n",
       "      <td>Pauvre Pierrot</td>\n",
       "      <td>Pauvre Pierrot</td>\n",
       "      <td>0</td>\n",
       "      <td>1892</td>\n",
       "      <td>\\N</td>\n",
       "      <td>4</td>\n",
       "      <td>Animation,Comedy,Romance</td>\n",
       "    </tr>\n",
       "    <tr>\n",
       "      <th>3</th>\n",
       "      <td>tt0000004</td>\n",
       "      <td>6.2</td>\n",
       "      <td>113</td>\n",
       "      <td>short</td>\n",
       "      <td>Un bon bock</td>\n",
       "      <td>Un bon bock</td>\n",
       "      <td>0</td>\n",
       "      <td>1892</td>\n",
       "      <td>\\N</td>\n",
       "      <td>\\N</td>\n",
       "      <td>Animation,Short</td>\n",
       "    </tr>\n",
       "    <tr>\n",
       "      <th>4</th>\n",
       "      <td>tt0000005</td>\n",
       "      <td>6.1</td>\n",
       "      <td>1934</td>\n",
       "      <td>short</td>\n",
       "      <td>Blacksmith Scene</td>\n",
       "      <td>Blacksmith Scene</td>\n",
       "      <td>0</td>\n",
       "      <td>1893</td>\n",
       "      <td>\\N</td>\n",
       "      <td>1</td>\n",
       "      <td>Comedy,Short</td>\n",
       "    </tr>\n",
       "  </tbody>\n",
       "</table>\n",
       "</div>"
      ],
      "text/plain": [
       "      tconst  averageRating  numVotes titleType            primaryTitle  \\\n",
       "0  tt0000001            5.6      1550     short              Carmencita   \n",
       "1  tt0000002            6.1       186     short  Le clown et ses chiens   \n",
       "2  tt0000003            6.5      1207     short          Pauvre Pierrot   \n",
       "3  tt0000004            6.2       113     short             Un bon bock   \n",
       "4  tt0000005            6.1      1934     short        Blacksmith Scene   \n",
       "\n",
       "            originalTitle  isAdult startYear endYear runtimeMinutes  \\\n",
       "0              Carmencita        0      1894      \\N              1   \n",
       "1  Le clown et ses chiens        0      1892      \\N              5   \n",
       "2          Pauvre Pierrot        0      1892      \\N              4   \n",
       "3             Un bon bock        0      1892      \\N             \\N   \n",
       "4        Blacksmith Scene        0      1893      \\N              1   \n",
       "\n",
       "                     genres  \n",
       "0         Documentary,Short  \n",
       "1           Animation,Short  \n",
       "2  Animation,Comedy,Romance  \n",
       "3           Animation,Short  \n",
       "4              Comedy,Short  "
      ]
     },
     "execution_count": 11,
     "metadata": {},
     "output_type": "execute_result"
    }
   ],
   "source": [
    "df_all = df_ratings.merge(df_bas, on=[\"tconst\"])\n",
    "df_left = df_all #отдельный датасет с уникальными оценками фильмов\n",
    "print(df_all.shape)\n",
    "df_all.head()"
   ]
  },
  {
   "cell_type": "code",
   "execution_count": 12,
   "metadata": {},
   "outputs": [
    {
     "data": {
      "text/html": [
       "<div>\n",
       "<style scoped>\n",
       "    .dataframe tbody tr th:only-of-type {\n",
       "        vertical-align: middle;\n",
       "    }\n",
       "\n",
       "    .dataframe tbody tr th {\n",
       "        vertical-align: top;\n",
       "    }\n",
       "\n",
       "    .dataframe thead th {\n",
       "        text-align: right;\n",
       "    }\n",
       "</style>\n",
       "<table border=\"1\" class=\"dataframe\">\n",
       "  <thead>\n",
       "    <tr style=\"text-align: right;\">\n",
       "      <th></th>\n",
       "      <th>tconst</th>\n",
       "      <th>averageRating</th>\n",
       "      <th>numVotes</th>\n",
       "      <th>titleType</th>\n",
       "      <th>primaryTitle</th>\n",
       "      <th>originalTitle</th>\n",
       "      <th>isAdult</th>\n",
       "      <th>startYear</th>\n",
       "      <th>endYear</th>\n",
       "      <th>runtimeMinutes</th>\n",
       "      <th>genres</th>\n",
       "      <th>ordering</th>\n",
       "      <th>nconst</th>\n",
       "      <th>category</th>\n",
       "      <th>job</th>\n",
       "      <th>characters</th>\n",
       "    </tr>\n",
       "  </thead>\n",
       "  <tbody>\n",
       "    <tr>\n",
       "      <th>0</th>\n",
       "      <td>tt0000001</td>\n",
       "      <td>5.6</td>\n",
       "      <td>1550</td>\n",
       "      <td>short</td>\n",
       "      <td>Carmencita</td>\n",
       "      <td>Carmencita</td>\n",
       "      <td>0</td>\n",
       "      <td>1894</td>\n",
       "      <td>\\N</td>\n",
       "      <td>1</td>\n",
       "      <td>Documentary,Short</td>\n",
       "      <td>1</td>\n",
       "      <td>nm1588970</td>\n",
       "      <td>self</td>\n",
       "      <td>\\N</td>\n",
       "      <td>[\"Herself\"]</td>\n",
       "    </tr>\n",
       "    <tr>\n",
       "      <th>1</th>\n",
       "      <td>tt0000001</td>\n",
       "      <td>5.6</td>\n",
       "      <td>1550</td>\n",
       "      <td>short</td>\n",
       "      <td>Carmencita</td>\n",
       "      <td>Carmencita</td>\n",
       "      <td>0</td>\n",
       "      <td>1894</td>\n",
       "      <td>\\N</td>\n",
       "      <td>1</td>\n",
       "      <td>Documentary,Short</td>\n",
       "      <td>2</td>\n",
       "      <td>nm0005690</td>\n",
       "      <td>director</td>\n",
       "      <td>\\N</td>\n",
       "      <td>\\N</td>\n",
       "    </tr>\n",
       "    <tr>\n",
       "      <th>2</th>\n",
       "      <td>tt0000001</td>\n",
       "      <td>5.6</td>\n",
       "      <td>1550</td>\n",
       "      <td>short</td>\n",
       "      <td>Carmencita</td>\n",
       "      <td>Carmencita</td>\n",
       "      <td>0</td>\n",
       "      <td>1894</td>\n",
       "      <td>\\N</td>\n",
       "      <td>1</td>\n",
       "      <td>Documentary,Short</td>\n",
       "      <td>3</td>\n",
       "      <td>nm0374658</td>\n",
       "      <td>cinematographer</td>\n",
       "      <td>director of photography</td>\n",
       "      <td>\\N</td>\n",
       "    </tr>\n",
       "    <tr>\n",
       "      <th>3</th>\n",
       "      <td>tt0000002</td>\n",
       "      <td>6.1</td>\n",
       "      <td>186</td>\n",
       "      <td>short</td>\n",
       "      <td>Le clown et ses chiens</td>\n",
       "      <td>Le clown et ses chiens</td>\n",
       "      <td>0</td>\n",
       "      <td>1892</td>\n",
       "      <td>\\N</td>\n",
       "      <td>5</td>\n",
       "      <td>Animation,Short</td>\n",
       "      <td>1</td>\n",
       "      <td>nm0721526</td>\n",
       "      <td>director</td>\n",
       "      <td>\\N</td>\n",
       "      <td>\\N</td>\n",
       "    </tr>\n",
       "    <tr>\n",
       "      <th>4</th>\n",
       "      <td>tt0000002</td>\n",
       "      <td>6.1</td>\n",
       "      <td>186</td>\n",
       "      <td>short</td>\n",
       "      <td>Le clown et ses chiens</td>\n",
       "      <td>Le clown et ses chiens</td>\n",
       "      <td>0</td>\n",
       "      <td>1892</td>\n",
       "      <td>\\N</td>\n",
       "      <td>5</td>\n",
       "      <td>Animation,Short</td>\n",
       "      <td>2</td>\n",
       "      <td>nm1335271</td>\n",
       "      <td>composer</td>\n",
       "      <td>\\N</td>\n",
       "      <td>\\N</td>\n",
       "    </tr>\n",
       "    <tr>\n",
       "      <th>...</th>\n",
       "      <td>...</td>\n",
       "      <td>...</td>\n",
       "      <td>...</td>\n",
       "      <td>...</td>\n",
       "      <td>...</td>\n",
       "      <td>...</td>\n",
       "      <td>...</td>\n",
       "      <td>...</td>\n",
       "      <td>...</td>\n",
       "      <td>...</td>\n",
       "      <td>...</td>\n",
       "      <td>...</td>\n",
       "      <td>...</td>\n",
       "      <td>...</td>\n",
       "      <td>...</td>\n",
       "      <td>...</td>\n",
       "    </tr>\n",
       "    <tr>\n",
       "      <th>8292046</th>\n",
       "      <td>tt9916766</td>\n",
       "      <td>6.7</td>\n",
       "      <td>11</td>\n",
       "      <td>tvEpisode</td>\n",
       "      <td>Episode #10.15</td>\n",
       "      <td>Episode #10.15</td>\n",
       "      <td>0</td>\n",
       "      <td>2019</td>\n",
       "      <td>\\N</td>\n",
       "      <td>43</td>\n",
       "      <td>Family,Reality-TV</td>\n",
       "      <td>5</td>\n",
       "      <td>nm1416195</td>\n",
       "      <td>composer</td>\n",
       "      <td>\\N</td>\n",
       "      <td>\\N</td>\n",
       "    </tr>\n",
       "    <tr>\n",
       "      <th>8292047</th>\n",
       "      <td>tt9916766</td>\n",
       "      <td>6.7</td>\n",
       "      <td>11</td>\n",
       "      <td>tvEpisode</td>\n",
       "      <td>Episode #10.15</td>\n",
       "      <td>Episode #10.15</td>\n",
       "      <td>0</td>\n",
       "      <td>2019</td>\n",
       "      <td>\\N</td>\n",
       "      <td>43</td>\n",
       "      <td>Family,Reality-TV</td>\n",
       "      <td>6</td>\n",
       "      <td>nm0931261</td>\n",
       "      <td>composer</td>\n",
       "      <td>\\N</td>\n",
       "      <td>\\N</td>\n",
       "    </tr>\n",
       "    <tr>\n",
       "      <th>8292048</th>\n",
       "      <td>tt9916766</td>\n",
       "      <td>6.7</td>\n",
       "      <td>11</td>\n",
       "      <td>tvEpisode</td>\n",
       "      <td>Episode #10.15</td>\n",
       "      <td>Episode #10.15</td>\n",
       "      <td>0</td>\n",
       "      <td>2019</td>\n",
       "      <td>\\N</td>\n",
       "      <td>43</td>\n",
       "      <td>Family,Reality-TV</td>\n",
       "      <td>7</td>\n",
       "      <td>nm1161727</td>\n",
       "      <td>editor</td>\n",
       "      <td>\\N</td>\n",
       "      <td>\\N</td>\n",
       "    </tr>\n",
       "    <tr>\n",
       "      <th>8292049</th>\n",
       "      <td>tt9916766</td>\n",
       "      <td>6.7</td>\n",
       "      <td>11</td>\n",
       "      <td>tvEpisode</td>\n",
       "      <td>Episode #10.15</td>\n",
       "      <td>Episode #10.15</td>\n",
       "      <td>0</td>\n",
       "      <td>2019</td>\n",
       "      <td>\\N</td>\n",
       "      <td>43</td>\n",
       "      <td>Family,Reality-TV</td>\n",
       "      <td>8</td>\n",
       "      <td>nm1369247</td>\n",
       "      <td>self</td>\n",
       "      <td>\\N</td>\n",
       "      <td>[\"Himself - Shark\"]</td>\n",
       "    </tr>\n",
       "    <tr>\n",
       "      <th>8292050</th>\n",
       "      <td>tt9916766</td>\n",
       "      <td>6.7</td>\n",
       "      <td>11</td>\n",
       "      <td>tvEpisode</td>\n",
       "      <td>Episode #10.15</td>\n",
       "      <td>Episode #10.15</td>\n",
       "      <td>0</td>\n",
       "      <td>2019</td>\n",
       "      <td>\\N</td>\n",
       "      <td>43</td>\n",
       "      <td>Family,Reality-TV</td>\n",
       "      <td>9</td>\n",
       "      <td>nm2891968</td>\n",
       "      <td>self</td>\n",
       "      <td>\\N</td>\n",
       "      <td>[\"Himself - Shark\"]</td>\n",
       "    </tr>\n",
       "  </tbody>\n",
       "</table>\n",
       "<p>8292051 rows × 16 columns</p>\n",
       "</div>"
      ],
      "text/plain": [
       "            tconst  averageRating  numVotes  titleType  \\\n",
       "0        tt0000001            5.6      1550      short   \n",
       "1        tt0000001            5.6      1550      short   \n",
       "2        tt0000001            5.6      1550      short   \n",
       "3        tt0000002            6.1       186      short   \n",
       "4        tt0000002            6.1       186      short   \n",
       "...            ...            ...       ...        ...   \n",
       "8292046  tt9916766            6.7        11  tvEpisode   \n",
       "8292047  tt9916766            6.7        11  tvEpisode   \n",
       "8292048  tt9916766            6.7        11  tvEpisode   \n",
       "8292049  tt9916766            6.7        11  tvEpisode   \n",
       "8292050  tt9916766            6.7        11  tvEpisode   \n",
       "\n",
       "                   primaryTitle           originalTitle  isAdult startYear  \\\n",
       "0                    Carmencita              Carmencita        0      1894   \n",
       "1                    Carmencita              Carmencita        0      1894   \n",
       "2                    Carmencita              Carmencita        0      1894   \n",
       "3        Le clown et ses chiens  Le clown et ses chiens        0      1892   \n",
       "4        Le clown et ses chiens  Le clown et ses chiens        0      1892   \n",
       "...                         ...                     ...      ...       ...   \n",
       "8292046          Episode #10.15          Episode #10.15        0      2019   \n",
       "8292047          Episode #10.15          Episode #10.15        0      2019   \n",
       "8292048          Episode #10.15          Episode #10.15        0      2019   \n",
       "8292049          Episode #10.15          Episode #10.15        0      2019   \n",
       "8292050          Episode #10.15          Episode #10.15        0      2019   \n",
       "\n",
       "        endYear runtimeMinutes             genres  ordering     nconst  \\\n",
       "0            \\N              1  Documentary,Short         1  nm1588970   \n",
       "1            \\N              1  Documentary,Short         2  nm0005690   \n",
       "2            \\N              1  Documentary,Short         3  nm0374658   \n",
       "3            \\N              5    Animation,Short         1  nm0721526   \n",
       "4            \\N              5    Animation,Short         2  nm1335271   \n",
       "...         ...            ...                ...       ...        ...   \n",
       "8292046      \\N             43  Family,Reality-TV         5  nm1416195   \n",
       "8292047      \\N             43  Family,Reality-TV         6  nm0931261   \n",
       "8292048      \\N             43  Family,Reality-TV         7  nm1161727   \n",
       "8292049      \\N             43  Family,Reality-TV         8  nm1369247   \n",
       "8292050      \\N             43  Family,Reality-TV         9  nm2891968   \n",
       "\n",
       "                category                      job           characters  \n",
       "0                   self                       \\N          [\"Herself\"]  \n",
       "1               director                       \\N                   \\N  \n",
       "2        cinematographer  director of photography                   \\N  \n",
       "3               director                       \\N                   \\N  \n",
       "4               composer                       \\N                   \\N  \n",
       "...                  ...                      ...                  ...  \n",
       "8292046         composer                       \\N                   \\N  \n",
       "8292047         composer                       \\N                   \\N  \n",
       "8292048           editor                       \\N                   \\N  \n",
       "8292049             self                       \\N  [\"Himself - Shark\"]  \n",
       "8292050             self                       \\N  [\"Himself - Shark\"]  \n",
       "\n",
       "[8292051 rows x 16 columns]"
      ]
     },
     "execution_count": 12,
     "metadata": {},
     "output_type": "execute_result"
    }
   ],
   "source": [
    "df_all = df_all.merge(df_prin, on=[\"tconst\"],)\n",
    "df_all.head()"
   ]
  },
  {
   "cell_type": "code",
   "execution_count": 13,
   "metadata": {},
   "outputs": [
    {
     "data": {
      "text/html": [
       "<div>\n",
       "<style scoped>\n",
       "    .dataframe tbody tr th:only-of-type {\n",
       "        vertical-align: middle;\n",
       "    }\n",
       "\n",
       "    .dataframe tbody tr th {\n",
       "        vertical-align: top;\n",
       "    }\n",
       "\n",
       "    .dataframe thead th {\n",
       "        text-align: right;\n",
       "    }\n",
       "</style>\n",
       "<table border=\"1\" class=\"dataframe\">\n",
       "  <thead>\n",
       "    <tr style=\"text-align: right;\">\n",
       "      <th></th>\n",
       "      <th>tconst</th>\n",
       "      <th>averageRating</th>\n",
       "      <th>numVotes</th>\n",
       "      <th>titleType</th>\n",
       "      <th>primaryTitle</th>\n",
       "      <th>originalTitle</th>\n",
       "      <th>isAdult</th>\n",
       "      <th>startYear</th>\n",
       "      <th>endYear</th>\n",
       "      <th>runtimeMinutes</th>\n",
       "      <th>...</th>\n",
       "      <th>ordering</th>\n",
       "      <th>nconst</th>\n",
       "      <th>category</th>\n",
       "      <th>job</th>\n",
       "      <th>characters</th>\n",
       "      <th>primaryName</th>\n",
       "      <th>birthYear</th>\n",
       "      <th>deathYear</th>\n",
       "      <th>primaryProfession</th>\n",
       "      <th>knownForTitles</th>\n",
       "    </tr>\n",
       "  </thead>\n",
       "  <tbody>\n",
       "    <tr>\n",
       "      <th>0</th>\n",
       "      <td>tt0000001</td>\n",
       "      <td>5.6</td>\n",
       "      <td>1550</td>\n",
       "      <td>short</td>\n",
       "      <td>Carmencita</td>\n",
       "      <td>Carmencita</td>\n",
       "      <td>0</td>\n",
       "      <td>1894</td>\n",
       "      <td>\\N</td>\n",
       "      <td>1</td>\n",
       "      <td>...</td>\n",
       "      <td>1</td>\n",
       "      <td>nm1588970</td>\n",
       "      <td>self</td>\n",
       "      <td>\\N</td>\n",
       "      <td>[\"Herself\"]</td>\n",
       "      <td>Carmencita</td>\n",
       "      <td>1868</td>\n",
       "      <td>1910</td>\n",
       "      <td>soundtrack</td>\n",
       "      <td>tt0057728,tt0000001</td>\n",
       "    </tr>\n",
       "    <tr>\n",
       "      <th>1</th>\n",
       "      <td>tt0000001</td>\n",
       "      <td>5.6</td>\n",
       "      <td>1550</td>\n",
       "      <td>short</td>\n",
       "      <td>Carmencita</td>\n",
       "      <td>Carmencita</td>\n",
       "      <td>0</td>\n",
       "      <td>1894</td>\n",
       "      <td>\\N</td>\n",
       "      <td>1</td>\n",
       "      <td>...</td>\n",
       "      <td>2</td>\n",
       "      <td>nm0005690</td>\n",
       "      <td>director</td>\n",
       "      <td>\\N</td>\n",
       "      <td>\\N</td>\n",
       "      <td>William K.L. Dickson</td>\n",
       "      <td>1860</td>\n",
       "      <td>1935</td>\n",
       "      <td>cinematographer,director,producer</td>\n",
       "      <td>tt0219560,tt1496763,tt6687694,tt1428455</td>\n",
       "    </tr>\n",
       "    <tr>\n",
       "      <th>2</th>\n",
       "      <td>tt0000005</td>\n",
       "      <td>6.1</td>\n",
       "      <td>1934</td>\n",
       "      <td>short</td>\n",
       "      <td>Blacksmith Scene</td>\n",
       "      <td>Blacksmith Scene</td>\n",
       "      <td>0</td>\n",
       "      <td>1893</td>\n",
       "      <td>\\N</td>\n",
       "      <td>1</td>\n",
       "      <td>...</td>\n",
       "      <td>3</td>\n",
       "      <td>nm0005690</td>\n",
       "      <td>director</td>\n",
       "      <td>\\N</td>\n",
       "      <td>\\N</td>\n",
       "      <td>William K.L. Dickson</td>\n",
       "      <td>1860</td>\n",
       "      <td>1935</td>\n",
       "      <td>cinematographer,director,producer</td>\n",
       "      <td>tt0219560,tt1496763,tt6687694,tt1428455</td>\n",
       "    </tr>\n",
       "    <tr>\n",
       "      <th>3</th>\n",
       "      <td>tt0000006</td>\n",
       "      <td>5.2</td>\n",
       "      <td>102</td>\n",
       "      <td>short</td>\n",
       "      <td>Chinese Opium Den</td>\n",
       "      <td>Chinese Opium Den</td>\n",
       "      <td>0</td>\n",
       "      <td>1894</td>\n",
       "      <td>\\N</td>\n",
       "      <td>1</td>\n",
       "      <td>...</td>\n",
       "      <td>1</td>\n",
       "      <td>nm0005690</td>\n",
       "      <td>director</td>\n",
       "      <td>\\N</td>\n",
       "      <td>\\N</td>\n",
       "      <td>William K.L. Dickson</td>\n",
       "      <td>1860</td>\n",
       "      <td>1935</td>\n",
       "      <td>cinematographer,director,producer</td>\n",
       "      <td>tt0219560,tt1496763,tt6687694,tt1428455</td>\n",
       "    </tr>\n",
       "    <tr>\n",
       "      <th>4</th>\n",
       "      <td>tt0000007</td>\n",
       "      <td>5.5</td>\n",
       "      <td>615</td>\n",
       "      <td>short</td>\n",
       "      <td>Corbett and Courtney Before the Kinetograph</td>\n",
       "      <td>Corbett and Courtney Before the Kinetograph</td>\n",
       "      <td>0</td>\n",
       "      <td>1894</td>\n",
       "      <td>\\N</td>\n",
       "      <td>1</td>\n",
       "      <td>...</td>\n",
       "      <td>3</td>\n",
       "      <td>nm0005690</td>\n",
       "      <td>director</td>\n",
       "      <td>\\N</td>\n",
       "      <td>\\N</td>\n",
       "      <td>William K.L. Dickson</td>\n",
       "      <td>1860</td>\n",
       "      <td>1935</td>\n",
       "      <td>cinematographer,director,producer</td>\n",
       "      <td>tt0219560,tt1496763,tt6687694,tt1428455</td>\n",
       "    </tr>\n",
       "    <tr>\n",
       "      <th>...</th>\n",
       "      <td>...</td>\n",
       "      <td>...</td>\n",
       "      <td>...</td>\n",
       "      <td>...</td>\n",
       "      <td>...</td>\n",
       "      <td>...</td>\n",
       "      <td>...</td>\n",
       "      <td>...</td>\n",
       "      <td>...</td>\n",
       "      <td>...</td>\n",
       "      <td>...</td>\n",
       "      <td>...</td>\n",
       "      <td>...</td>\n",
       "      <td>...</td>\n",
       "      <td>...</td>\n",
       "      <td>...</td>\n",
       "      <td>...</td>\n",
       "      <td>...</td>\n",
       "      <td>...</td>\n",
       "      <td>...</td>\n",
       "      <td>...</td>\n",
       "    </tr>\n",
       "    <tr>\n",
       "      <th>8288001</th>\n",
       "      <td>tt9916428</td>\n",
       "      <td>2.9</td>\n",
       "      <td>8</td>\n",
       "      <td>movie</td>\n",
       "      <td>The Secret of China</td>\n",
       "      <td>The Secret of China</td>\n",
       "      <td>0</td>\n",
       "      <td>2019</td>\n",
       "      <td>\\N</td>\n",
       "      <td>\\N</td>\n",
       "      <td>...</td>\n",
       "      <td>2</td>\n",
       "      <td>nm9445072</td>\n",
       "      <td>actor</td>\n",
       "      <td>\\N</td>\n",
       "      <td>[\"Mao Ze Dong\"]</td>\n",
       "      <td>Wang Peng Kai</td>\n",
       "      <td>\\N</td>\n",
       "      <td>\\N</td>\n",
       "      <td>actor</td>\n",
       "      <td>tt7674346,tt9916428</td>\n",
       "    </tr>\n",
       "    <tr>\n",
       "      <th>8288002</th>\n",
       "      <td>tt9916428</td>\n",
       "      <td>2.9</td>\n",
       "      <td>8</td>\n",
       "      <td>movie</td>\n",
       "      <td>The Secret of China</td>\n",
       "      <td>The Secret of China</td>\n",
       "      <td>0</td>\n",
       "      <td>2019</td>\n",
       "      <td>\\N</td>\n",
       "      <td>\\N</td>\n",
       "      <td>...</td>\n",
       "      <td>3</td>\n",
       "      <td>nm8594703</td>\n",
       "      <td>actor</td>\n",
       "      <td>\\N</td>\n",
       "      <td>[\"Dr. Hatem\"]</td>\n",
       "      <td>Valery Gadreau</td>\n",
       "      <td>\\N</td>\n",
       "      <td>\\N</td>\n",
       "      <td>actor</td>\n",
       "      <td>tt1424310</td>\n",
       "    </tr>\n",
       "    <tr>\n",
       "      <th>8288003</th>\n",
       "      <td>tt9916544</td>\n",
       "      <td>7.3</td>\n",
       "      <td>11</td>\n",
       "      <td>short</td>\n",
       "      <td>My Sweet Prince</td>\n",
       "      <td>My Sweet Prince</td>\n",
       "      <td>0</td>\n",
       "      <td>2019</td>\n",
       "      <td>\\N</td>\n",
       "      <td>12</td>\n",
       "      <td>...</td>\n",
       "      <td>1</td>\n",
       "      <td>nm9424215</td>\n",
       "      <td>actor</td>\n",
       "      <td>\\N</td>\n",
       "      <td>[\"Tommy\"]</td>\n",
       "      <td>Yoni Roodner</td>\n",
       "      <td>\\N</td>\n",
       "      <td>\\N</td>\n",
       "      <td>actor</td>\n",
       "      <td>tt0974015</td>\n",
       "    </tr>\n",
       "    <tr>\n",
       "      <th>8288004</th>\n",
       "      <td>tt9916544</td>\n",
       "      <td>7.3</td>\n",
       "      <td>11</td>\n",
       "      <td>short</td>\n",
       "      <td>My Sweet Prince</td>\n",
       "      <td>My Sweet Prince</td>\n",
       "      <td>0</td>\n",
       "      <td>2019</td>\n",
       "      <td>\\N</td>\n",
       "      <td>12</td>\n",
       "      <td>...</td>\n",
       "      <td>3</td>\n",
       "      <td>nm7395788</td>\n",
       "      <td>actor</td>\n",
       "      <td>\\N</td>\n",
       "      <td>[\"Aaron\"]</td>\n",
       "      <td>Rio Thake</td>\n",
       "      <td>\\N</td>\n",
       "      <td>\\N</td>\n",
       "      <td>actor</td>\n",
       "      <td>tt9756938,tt2186766,tt4604612,tt9916544</td>\n",
       "    </tr>\n",
       "    <tr>\n",
       "      <th>8288005</th>\n",
       "      <td>tt9916544</td>\n",
       "      <td>7.3</td>\n",
       "      <td>11</td>\n",
       "      <td>short</td>\n",
       "      <td>My Sweet Prince</td>\n",
       "      <td>My Sweet Prince</td>\n",
       "      <td>0</td>\n",
       "      <td>2019</td>\n",
       "      <td>\\N</td>\n",
       "      <td>12</td>\n",
       "      <td>...</td>\n",
       "      <td>4</td>\n",
       "      <td>nm7571612</td>\n",
       "      <td>actor</td>\n",
       "      <td>\\N</td>\n",
       "      <td>[\"Conor\"]</td>\n",
       "      <td>Oliver Bickers</td>\n",
       "      <td>\\N</td>\n",
       "      <td>\\N</td>\n",
       "      <td>actor</td>\n",
       "      <td>tt5184904,tt5928068,tt9916544,tt10500254</td>\n",
       "    </tr>\n",
       "  </tbody>\n",
       "</table>\n",
       "<p>8288006 rows × 21 columns</p>\n",
       "</div>"
      ],
      "text/plain": [
       "            tconst  averageRating  numVotes titleType  \\\n",
       "0        tt0000001            5.6      1550     short   \n",
       "1        tt0000001            5.6      1550     short   \n",
       "2        tt0000005            6.1      1934     short   \n",
       "3        tt0000006            5.2       102     short   \n",
       "4        tt0000007            5.5       615     short   \n",
       "...            ...            ...       ...       ...   \n",
       "8288001  tt9916428            2.9         8     movie   \n",
       "8288002  tt9916428            2.9         8     movie   \n",
       "8288003  tt9916544            7.3        11     short   \n",
       "8288004  tt9916544            7.3        11     short   \n",
       "8288005  tt9916544            7.3        11     short   \n",
       "\n",
       "                                        primaryTitle  \\\n",
       "0                                         Carmencita   \n",
       "1                                         Carmencita   \n",
       "2                                   Blacksmith Scene   \n",
       "3                                  Chinese Opium Den   \n",
       "4        Corbett and Courtney Before the Kinetograph   \n",
       "...                                              ...   \n",
       "8288001                          The Secret of China   \n",
       "8288002                          The Secret of China   \n",
       "8288003                              My Sweet Prince   \n",
       "8288004                              My Sweet Prince   \n",
       "8288005                              My Sweet Prince   \n",
       "\n",
       "                                       originalTitle  isAdult startYear  \\\n",
       "0                                         Carmencita        0      1894   \n",
       "1                                         Carmencita        0      1894   \n",
       "2                                   Blacksmith Scene        0      1893   \n",
       "3                                  Chinese Opium Den        0      1894   \n",
       "4        Corbett and Courtney Before the Kinetograph        0      1894   \n",
       "...                                              ...      ...       ...   \n",
       "8288001                          The Secret of China        0      2019   \n",
       "8288002                          The Secret of China        0      2019   \n",
       "8288003                              My Sweet Prince        0      2019   \n",
       "8288004                              My Sweet Prince        0      2019   \n",
       "8288005                              My Sweet Prince        0      2019   \n",
       "\n",
       "        endYear runtimeMinutes  ... ordering     nconst  category job  \\\n",
       "0            \\N              1  ...        1  nm1588970      self  \\N   \n",
       "1            \\N              1  ...        2  nm0005690  director  \\N   \n",
       "2            \\N              1  ...        3  nm0005690  director  \\N   \n",
       "3            \\N              1  ...        1  nm0005690  director  \\N   \n",
       "4            \\N              1  ...        3  nm0005690  director  \\N   \n",
       "...         ...            ...  ...      ...        ...       ...  ..   \n",
       "8288001      \\N             \\N  ...        2  nm9445072     actor  \\N   \n",
       "8288002      \\N             \\N  ...        3  nm8594703     actor  \\N   \n",
       "8288003      \\N             12  ...        1  nm9424215     actor  \\N   \n",
       "8288004      \\N             12  ...        3  nm7395788     actor  \\N   \n",
       "8288005      \\N             12  ...        4  nm7571612     actor  \\N   \n",
       "\n",
       "              characters           primaryName birthYear deathYear  \\\n",
       "0            [\"Herself\"]            Carmencita      1868      1910   \n",
       "1                     \\N  William K.L. Dickson      1860      1935   \n",
       "2                     \\N  William K.L. Dickson      1860      1935   \n",
       "3                     \\N  William K.L. Dickson      1860      1935   \n",
       "4                     \\N  William K.L. Dickson      1860      1935   \n",
       "...                  ...                   ...       ...       ...   \n",
       "8288001  [\"Mao Ze Dong\"]         Wang Peng Kai        \\N        \\N   \n",
       "8288002    [\"Dr. Hatem\"]        Valery Gadreau        \\N        \\N   \n",
       "8288003        [\"Tommy\"]          Yoni Roodner        \\N        \\N   \n",
       "8288004        [\"Aaron\"]             Rio Thake        \\N        \\N   \n",
       "8288005        [\"Conor\"]        Oliver Bickers        \\N        \\N   \n",
       "\n",
       "                         primaryProfession  \\\n",
       "0                               soundtrack   \n",
       "1        cinematographer,director,producer   \n",
       "2        cinematographer,director,producer   \n",
       "3        cinematographer,director,producer   \n",
       "4        cinematographer,director,producer   \n",
       "...                                    ...   \n",
       "8288001                              actor   \n",
       "8288002                              actor   \n",
       "8288003                              actor   \n",
       "8288004                              actor   \n",
       "8288005                              actor   \n",
       "\n",
       "                                   knownForTitles  \n",
       "0                             tt0057728,tt0000001  \n",
       "1         tt0219560,tt1496763,tt6687694,tt1428455  \n",
       "2         tt0219560,tt1496763,tt6687694,tt1428455  \n",
       "3         tt0219560,tt1496763,tt6687694,tt1428455  \n",
       "4         tt0219560,tt1496763,tt6687694,tt1428455  \n",
       "...                                           ...  \n",
       "8288001                       tt7674346,tt9916428  \n",
       "8288002                                 tt1424310  \n",
       "8288003                                 tt0974015  \n",
       "8288004   tt9756938,tt2186766,tt4604612,tt9916544  \n",
       "8288005  tt5184904,tt5928068,tt9916544,tt10500254  \n",
       "\n",
       "[8288006 rows x 21 columns]"
      ]
     },
     "execution_count": 13,
     "metadata": {},
     "output_type": "execute_result"
    }
   ],
   "source": [
    "df_all = df_all.merge(df_name, on=[\"nconst\"])\n",
    "df_all.head()"
   ]
  },
  {
   "cell_type": "code",
   "execution_count": 14,
   "metadata": {},
   "outputs": [
    {
     "name": "stdout",
     "output_type": "stream",
     "text": [
      "<class 'pandas.core.frame.DataFrame'>\n",
      "Int64Index: 8288006 entries, 0 to 8288005\n",
      "Data columns (total 21 columns):\n",
      " #   Column             Dtype  \n",
      "---  ------             -----  \n",
      " 0   tconst             object \n",
      " 1   averageRating      float64\n",
      " 2   numVotes           int64  \n",
      " 3   titleType          object \n",
      " 4   primaryTitle       object \n",
      " 5   originalTitle      object \n",
      " 6   isAdult            int64  \n",
      " 7   startYear          object \n",
      " 8   endYear            object \n",
      " 9   runtimeMinutes     object \n",
      " 10  genres             object \n",
      " 11  ordering           int64  \n",
      " 12  nconst             object \n",
      " 13  category           object \n",
      " 14  job                object \n",
      " 15  characters         object \n",
      " 16  primaryName        object \n",
      " 17  birthYear          object \n",
      " 18  deathYear          object \n",
      " 19  primaryProfession  object \n",
      " 20  knownForTitles     object \n",
      "dtypes: float64(1), int64(3), object(17)\n",
      "memory usage: 1.4+ GB\n"
     ]
    }
   ],
   "source": [
    "df_all.info() # Пропуски в датасете:"
   ]
  },
  {
   "cell_type": "code",
   "execution_count": 15,
   "metadata": {},
   "outputs": [
    {
     "data": {
      "text/html": [
       "<div>\n",
       "<style scoped>\n",
       "    .dataframe tbody tr th:only-of-type {\n",
       "        vertical-align: middle;\n",
       "    }\n",
       "\n",
       "    .dataframe tbody tr th {\n",
       "        vertical-align: top;\n",
       "    }\n",
       "\n",
       "    .dataframe thead th {\n",
       "        text-align: right;\n",
       "    }\n",
       "</style>\n",
       "<table border=\"1\" class=\"dataframe\">\n",
       "  <thead>\n",
       "    <tr style=\"text-align: right;\">\n",
       "      <th></th>\n",
       "      <th>averageRating</th>\n",
       "      <th>numVotes</th>\n",
       "      <th>isAdult</th>\n",
       "      <th>ordering</th>\n",
       "    </tr>\n",
       "  </thead>\n",
       "  <tbody>\n",
       "    <tr>\n",
       "      <th>count</th>\n",
       "      <td>8.288006e+06</td>\n",
       "      <td>8.288006e+06</td>\n",
       "      <td>8.288006e+06</td>\n",
       "      <td>8.288006e+06</td>\n",
       "    </tr>\n",
       "    <tr>\n",
       "      <th>mean</th>\n",
       "      <td>6.883384e+00</td>\n",
       "      <td>1.131794e+03</td>\n",
       "      <td>2.034880e-02</td>\n",
       "      <td>5.131638e+00</td>\n",
       "    </tr>\n",
       "    <tr>\n",
       "      <th>std</th>\n",
       "      <td>1.370011e+00</td>\n",
       "      <td>1.711779e+04</td>\n",
       "      <td>1.408504e+00</td>\n",
       "      <td>2.826571e+00</td>\n",
       "    </tr>\n",
       "    <tr>\n",
       "      <th>min</th>\n",
       "      <td>1.000000e+00</td>\n",
       "      <td>5.000000e+00</td>\n",
       "      <td>0.000000e+00</td>\n",
       "      <td>1.000000e+00</td>\n",
       "    </tr>\n",
       "    <tr>\n",
       "      <th>25%</th>\n",
       "      <td>6.100000e+00</td>\n",
       "      <td>9.000000e+00</td>\n",
       "      <td>0.000000e+00</td>\n",
       "      <td>3.000000e+00</td>\n",
       "    </tr>\n",
       "    <tr>\n",
       "      <th>50%</th>\n",
       "      <td>7.100000e+00</td>\n",
       "      <td>2.300000e+01</td>\n",
       "      <td>0.000000e+00</td>\n",
       "      <td>5.000000e+00</td>\n",
       "    </tr>\n",
       "    <tr>\n",
       "      <th>75%</th>\n",
       "      <td>7.800000e+00</td>\n",
       "      <td>9.600000e+01</td>\n",
       "      <td>0.000000e+00</td>\n",
       "      <td>8.000000e+00</td>\n",
       "    </tr>\n",
       "    <tr>\n",
       "      <th>max</th>\n",
       "      <td>1.000000e+01</td>\n",
       "      <td>2.160364e+06</td>\n",
       "      <td>2.019000e+03</td>\n",
       "      <td>1.000000e+01</td>\n",
       "    </tr>\n",
       "  </tbody>\n",
       "</table>\n",
       "</div>"
      ],
      "text/plain": [
       "       averageRating      numVotes       isAdult      ordering\n",
       "count   8.288006e+06  8.288006e+06  8.288006e+06  8.288006e+06\n",
       "mean    6.883384e+00  1.131794e+03  2.034880e-02  5.131638e+00\n",
       "std     1.370011e+00  1.711779e+04  1.408504e+00  2.826571e+00\n",
       "min     1.000000e+00  5.000000e+00  0.000000e+00  1.000000e+00\n",
       "25%     6.100000e+00  9.000000e+00  0.000000e+00  3.000000e+00\n",
       "50%     7.100000e+00  2.300000e+01  0.000000e+00  5.000000e+00\n",
       "75%     7.800000e+00  9.600000e+01  0.000000e+00  8.000000e+00\n",
       "max     1.000000e+01  2.160364e+06  2.019000e+03  1.000000e+01"
      ]
     },
     "execution_count": 15,
     "metadata": {},
     "output_type": "execute_result"
    }
   ],
   "source": [
    "df_all.describe()"
   ]
  },
  {
   "cell_type": "code",
   "execution_count": 16,
   "metadata": {},
   "outputs": [
    {
     "data": {
      "text/html": [
       "<div>\n",
       "<style scoped>\n",
       "    .dataframe tbody tr th:only-of-type {\n",
       "        vertical-align: middle;\n",
       "    }\n",
       "\n",
       "    .dataframe tbody tr th {\n",
       "        vertical-align: top;\n",
       "    }\n",
       "\n",
       "    .dataframe thead th {\n",
       "        text-align: right;\n",
       "    }\n",
       "</style>\n",
       "<table border=\"1\" class=\"dataframe\">\n",
       "  <thead>\n",
       "    <tr style=\"text-align: right;\">\n",
       "      <th></th>\n",
       "      <th>averageRating</th>\n",
       "      <th>numVotes</th>\n",
       "      <th>isAdult</th>\n",
       "    </tr>\n",
       "  </thead>\n",
       "  <tbody>\n",
       "    <tr>\n",
       "      <th>count</th>\n",
       "      <td>993821.000000</td>\n",
       "      <td>9.938210e+05</td>\n",
       "      <td>993821.000000</td>\n",
       "    </tr>\n",
       "    <tr>\n",
       "      <th>mean</th>\n",
       "      <td>6.886223</td>\n",
       "      <td>9.554982e+02</td>\n",
       "      <td>0.022387</td>\n",
       "    </tr>\n",
       "    <tr>\n",
       "      <th>std</th>\n",
       "      <td>1.400297</td>\n",
       "      <td>1.565684e+04</td>\n",
       "      <td>2.863731</td>\n",
       "    </tr>\n",
       "    <tr>\n",
       "      <th>min</th>\n",
       "      <td>1.000000</td>\n",
       "      <td>5.000000e+00</td>\n",
       "      <td>0.000000</td>\n",
       "    </tr>\n",
       "    <tr>\n",
       "      <th>25%</th>\n",
       "      <td>6.100000</td>\n",
       "      <td>9.000000e+00</td>\n",
       "      <td>0.000000</td>\n",
       "    </tr>\n",
       "    <tr>\n",
       "      <th>50%</th>\n",
       "      <td>7.100000</td>\n",
       "      <td>2.000000e+01</td>\n",
       "      <td>0.000000</td>\n",
       "    </tr>\n",
       "    <tr>\n",
       "      <th>75%</th>\n",
       "      <td>7.900000</td>\n",
       "      <td>7.600000e+01</td>\n",
       "      <td>0.000000</td>\n",
       "    </tr>\n",
       "    <tr>\n",
       "      <th>max</th>\n",
       "      <td>10.000000</td>\n",
       "      <td>2.160364e+06</td>\n",
       "      <td>2019.000000</td>\n",
       "    </tr>\n",
       "  </tbody>\n",
       "</table>\n",
       "</div>"
      ],
      "text/plain": [
       "       averageRating      numVotes        isAdult\n",
       "count  993821.000000  9.938210e+05  993821.000000\n",
       "mean        6.886223  9.554982e+02       0.022387\n",
       "std         1.400297  1.565684e+04       2.863731\n",
       "min         1.000000  5.000000e+00       0.000000\n",
       "25%         6.100000  9.000000e+00       0.000000\n",
       "50%         7.100000  2.000000e+01       0.000000\n",
       "75%         7.900000  7.600000e+01       0.000000\n",
       "max        10.000000  2.160364e+06    2019.000000"
      ]
     },
     "execution_count": 16,
     "metadata": {},
     "output_type": "execute_result"
    }
   ],
   "source": [
    "df_left.describe()"
   ]
  },
  {
   "cell_type": "code",
   "execution_count": 17,
   "metadata": {},
   "outputs": [
    {
     "data": {
      "image/png": "[encoded data removed]",
      "text/plain": [
       "<Figure size 432x288 with 1 Axes>"
      ]
     },
     "metadata": {
      "needs_background": "light"
     },
     "output_type": "display_data"
    }
   ],
   "source": [
    "plt.plot((df_all.averageRating.value_counts().head(91)/df_left.averageRating.value_counts().head(91)).index,\n",
    "         df_all.averageRating.value_counts().head(91)/df_left.averageRating.value_counts().head(91))\n",
    "plt.title('Соотношение между чистой оценкой df_left и усредненной с данными по людям df_all')\n",
    "plt.grid(1)\n",
    "plt.show()"
   ]
  },
  {
   "cell_type": "code",
   "execution_count": 18,
   "metadata": {},
   "outputs": [
    {
     "data": {
      "text/plain": [
       "7.2    35289\n",
       "7.0    33910\n",
       "7.8    33879\n",
       "7.6    33251\n",
       "7.4    32988\n",
       "6.8    31464\n",
       "8.0    31126\n",
       "7.3    29898\n",
       "7.5    29672\n",
       "7.7    29532\n",
       "Name: averageRating, dtype: int64"
      ]
     },
     "execution_count": 18,
     "metadata": {},
     "output_type": "execute_result"
    }
   ],
   "source": [
    "df_left.averageRating.value_counts().head(10) # мода 7.2 - больше среднего на 0.4"
   ]
  },
  {
   "cell_type": "code",
   "execution_count": 19,
   "metadata": {},
   "outputs": [
    {
     "data": {
      "text/plain": [
       "6.886222569255134"
      ]
     },
     "execution_count": 19,
     "metadata": {},
     "output_type": "execute_result"
    }
   ],
   "source": [
    "mu = df_left.averageRating.mean()\n",
    "mu"
   ]
  },
  {
   "cell_type": "code",
   "execution_count": 20,
   "metadata": {},
   "outputs": [
    {
     "data": {
      "text/plain": [
       "1.4002958129408385"
      ]
     },
     "execution_count": 20,
     "metadata": {},
     "output_type": "execute_result"
    }
   ],
   "source": [
    "sigma=np.std(df_left.averageRating)\n",
    "sigma"
   ]
  },
  {
   "cell_type": "markdown",
   "metadata": {},
   "source": [
    "<h5> распределение сжатое, поэтому в sigma диапазон вмещается не 68, а 71 %"
   ]
  },
  {
   "cell_type": "code",
   "execution_count": 21,
   "metadata": {},
   "outputs": [
    {
     "data": {
      "text/plain": [
       "0.7138569219205471"
      ]
     },
     "execution_count": 21,
     "metadata": {},
     "output_type": "execute_result"
    }
   ],
   "source": [
    "in_1_sigma = df_left.loc[(df_left['averageRating'] > mu-sigma) & \n",
    "                         (df_left['averageRating'] < mu+sigma), 'averageRating'].count()\n",
    "in_1_sigma/df_left.averageRating.count()"
   ]
  },
  {
   "cell_type": "code",
   "execution_count": 22,
   "metadata": {},
   "outputs": [
    {
     "data": {
      "image/png": "[encoded data removed]",
      "text/plain": [
       "<Figure size 432x288 with 1 Axes>"
      ]
     },
     "metadata": {
      "needs_background": "light"
     },
     "output_type": "display_data"
    }
   ],
   "source": [
    "plt.boxplot(df_left.averageRating)\n",
    "plt.show()"
   ]
  },
  {
   "cell_type": "markdown",
   "metadata": {},
   "source": [
    "<h6> Из приведенного qq-графика видно, что слегка смещено распределение к средней оценке 6.8"
   ]
  },
  {
   "cell_type": "code",
   "execution_count": 23,
   "metadata": {},
   "outputs": [
    {
     "data": {
      "image/png": "[encoded data removed]",
      "text/plain": [
       "<Figure size 432x288 with 1 Axes>"
      ]
     },
     "metadata": {
      "needs_background": "light"
     },
     "output_type": "display_data"
    }
   ],
   "source": [
    "stats.probplot(df_left.averageRating,dist=\"norm\",plot=pylab)\n",
    "pylab.show()"
   ]
  },
  {
   "cell_type": "markdown",
   "metadata": {},
   "source": [
    "<h6> Все объяснимо: люди чаще обычног ставят 1, когда не нравится, ставят 10, когда нравится, когда что-то хорошее или посредственное, то чаще всего 7 или 6. Что-то низкое (2-5) или высокое (8-9) люди ставят реже. Величина распределена далеко не нормально, но имеет что-то схожее из-за добавления десятичных знаков при усреднении дискретной оценки из баллов.\n",
    "    Если бы мат ожидание было в районе 5, то людям бы было безразлично, смотрят они фильмы или нет. 6.88 говорит о том, что фильмы чаще нравятся, поэтому на них и есть спрос."
   ]
  },
  {
   "cell_type": "code",
   "execution_count": 24,
   "metadata": {},
   "outputs": [
    {
     "data": {
      "text/plain": [
       "<matplotlib.axes._subplots.AxesSubplot at 0x1a29d0cfe08>"
      ]
     },
     "execution_count": 24,
     "metadata": {},
     "output_type": "execute_result"
    },
    {
     "data": {
      "image/png": "[encoded data removed]",
      "text/plain": [
       "<Figure size 720x576 with 1 Axes>"
      ]
     },
     "metadata": {},
     "output_type": "display_data"
    }
   ],
   "source": [
    "matplotlib.style.use('ggplot')\n",
    "plt.rcParams['figure.figsize'] = [10, 8]\n",
    "plt.grid(1)\n",
    "df_left.averageRating.plot.kde()"
   ]
  },
  {
   "cell_type": "markdown",
   "metadata": {},
   "source": [
    "<h5> Средние оценки сильно отличаются с шагом 2, не могу понять почему? Причина математическая из-за расчета средних оценок или график построен не верно?"
   ]
  },
  {
   "cell_type": "code",
   "execution_count": 25,
   "metadata": {},
   "outputs": [
    {
     "data": {
      "image/png": "[encoded data removed]",
      "text/plain": [
       "<Figure size 720x576 with 1 Axes>"
      ]
     },
     "metadata": {},
     "output_type": "display_data"
    }
   ],
   "source": [
    "plt.hist(df_left.averageRating, bins = len(df_left.averageRating.value_counts()), density = False)\n",
    "plt.grid(1)\n",
    "plt.rcParams['figure.figsize'] = [10, 8]\n",
    "matplotlib.style.use('ggplot')\n",
    "plt.show()"
   ]
  },
  {
   "cell_type": "code",
   "execution_count": 26,
   "metadata": {},
   "outputs": [
    {
     "data": {
      "text/plain": [
       "<matplotlib.axes._subplots.AxesSubplot at 0x1a2a6a28588>"
      ]
     },
     "execution_count": 26,
     "metadata": {},
     "output_type": "execute_result"
    },
    {
     "data": {
      "image/png": "[encoded data removed]",
      "text/plain": [
       "<Figure size 720x576 with 1 Axes>"
      ]
     },
     "metadata": {},
     "output_type": "display_data"
    }
   ],
   "source": [
    "import seaborn as sns\n",
    "sns.distplot(df_left.averageRating)"
   ]
  },
  {
   "cell_type": "markdown",
   "metadata": {},
   "source": [
    "<h5> Наверное это чем-то похоже на график распределения Паретто?"
   ]
  },
  {
   "cell_type": "code",
   "execution_count": 56,
   "metadata": {},
   "outputs": [
    {
     "data": {
      "image/png": "[encoded data removed]",
      "text/plain": [
       "<Figure size 576x360 with 1 Axes>"
      ]
     },
     "metadata": {},
     "output_type": "display_data"
    }
   ],
   "source": [
    "# Построение графика\n",
    "x = np.linspace(0, len(df_left.averageRating.value_counts()), len(df_left.averageRating.value_counts()))\n",
    "fig, ax = plt.subplots()\n",
    "ax.plot(x, df_left.averageRating.value_counts(), label = 'averageRating')\n",
    "# ax.hist(df_left.averageRating, bins = len(df_left.averageRating.value_counts()), density = False)\n",
    "\n",
    "ax.set_title(\"Распределение averageRating\")\n",
    "ax.legend()\n",
    "ax.grid()\n",
    "fig.set_figheight(5)\n",
    "fig.set_figwidth(8)\n",
    "plt.show()\n",
    "\n",
    "# plt.scatter(zp,ks)\n",
    "# plt.plot(x,df_all.averageRating)\n",
    "# plt.show()"
   ]
  },
  {
   "cell_type": "code",
   "execution_count": 28,
   "metadata": {},
   "outputs": [],
   "source": [
    "# matplotlib.use('TkAgg') # выводит графики в отдельном окне"
   ]
  },
  {
   "cell_type": "markdown",
   "metadata": {},
   "source": [
    "<h3> Проверка статистической гипотезы: жанр комедия имеет самую высокую оценку с доверительным интервалом 99%.\n",
    "    \n",
    "    Найдем распределения для самых популярных пяти жанров"
   ]
  },
  {
   "cell_type": "code",
   "execution_count": 29,
   "metadata": {},
   "outputs": [
    {
     "data": {
      "text/plain": [
       "Comedy                        89083\n",
       "Drama                         74911\n",
       "Documentary                   55109\n",
       "Action,Adventure,Animation    26523\n",
       "Reality-TV                    21138\n",
       "Name: genres, dtype: int64"
      ]
     },
     "execution_count": 29,
     "metadata": {},
     "output_type": "execute_result"
    }
   ],
   "source": [
    "df_left.genres.value_counts().head()\n"
   ]
  },
  {
   "cell_type": "code",
   "execution_count": 30,
   "metadata": {},
   "outputs": [],
   "source": [
    "Comedy = df_left.loc[df_left.genres.str.contains('Comedy', case=False, na=False), 'averageRating']\n",
    "Drama = df_left.loc[df_left.genres.str.contains('Drama', case=False, na=False), 'averageRating']\n",
    "Documentary = df_left.loc[df_left.genres.str.contains('Documentary', case=False, na=False), 'averageRating']\n",
    "Animation = df_left.loc[df_left.genres.str.contains('Animation', case=False, na=False), 'averageRating']\n",
    "Action = df_left.loc[df_left.genres.str.contains('Action', case=False, na=False), 'averageRating']"
   ]
  },
  {
   "cell_type": "markdown",
   "metadata": {},
   "source": [
    "<h5> С учетом комбинированных жанров самое высокое мат ожидание имеет документальный фильм, а комедия на 4-м месте"
   ]
  },
  {
   "cell_type": "code",
   "execution_count": 31,
   "metadata": {},
   "outputs": [
    {
     "data": {
      "text/html": [
       "<div>\n",
       "<style scoped>\n",
       "    .dataframe tbody tr th:only-of-type {\n",
       "        vertical-align: middle;\n",
       "    }\n",
       "\n",
       "    .dataframe tbody tr th {\n",
       "        vertical-align: top;\n",
       "    }\n",
       "\n",
       "    .dataframe thead th {\n",
       "        text-align: right;\n",
       "    }\n",
       "</style>\n",
       "<table border=\"1\" class=\"dataframe\">\n",
       "  <thead>\n",
       "    <tr style=\"text-align: right;\">\n",
       "      <th></th>\n",
       "      <th>Comedy</th>\n",
       "      <th>Drama</th>\n",
       "      <th>Documentary</th>\n",
       "      <th>Animation</th>\n",
       "      <th>Action</th>\n",
       "    </tr>\n",
       "  </thead>\n",
       "  <tbody>\n",
       "    <tr>\n",
       "      <th>count</th>\n",
       "      <td>315982.000000</td>\n",
       "      <td>325159.000000</td>\n",
       "      <td>115508.000000</td>\n",
       "      <td>108165.000000</td>\n",
       "      <td>115307.000000</td>\n",
       "    </tr>\n",
       "    <tr>\n",
       "      <th>mean</th>\n",
       "      <td>6.919186</td>\n",
       "      <td>7.018507</td>\n",
       "      <td>7.241429</td>\n",
       "      <td>7.046735</td>\n",
       "      <td>6.951038</td>\n",
       "    </tr>\n",
       "    <tr>\n",
       "      <th>std</th>\n",
       "      <td>1.353608</td>\n",
       "      <td>1.321164</td>\n",
       "      <td>1.217808</td>\n",
       "      <td>1.240377</td>\n",
       "      <td>1.412571</td>\n",
       "    </tr>\n",
       "    <tr>\n",
       "      <th>min</th>\n",
       "      <td>1.000000</td>\n",
       "      <td>1.000000</td>\n",
       "      <td>1.000000</td>\n",
       "      <td>1.000000</td>\n",
       "      <td>1.000000</td>\n",
       "    </tr>\n",
       "    <tr>\n",
       "      <th>25%</th>\n",
       "      <td>6.200000</td>\n",
       "      <td>6.300000</td>\n",
       "      <td>6.600000</td>\n",
       "      <td>6.400000</td>\n",
       "      <td>6.200000</td>\n",
       "    </tr>\n",
       "    <tr>\n",
       "      <th>50%</th>\n",
       "      <td>7.100000</td>\n",
       "      <td>7.200000</td>\n",
       "      <td>7.400000</td>\n",
       "      <td>7.200000</td>\n",
       "      <td>7.200000</td>\n",
       "    </tr>\n",
       "    <tr>\n",
       "      <th>75%</th>\n",
       "      <td>7.900000</td>\n",
       "      <td>7.900000</td>\n",
       "      <td>8.000000</td>\n",
       "      <td>7.900000</td>\n",
       "      <td>7.900000</td>\n",
       "    </tr>\n",
       "    <tr>\n",
       "      <th>max</th>\n",
       "      <td>10.000000</td>\n",
       "      <td>10.000000</td>\n",
       "      <td>10.000000</td>\n",
       "      <td>10.000000</td>\n",
       "      <td>10.000000</td>\n",
       "    </tr>\n",
       "  </tbody>\n",
       "</table>\n",
       "</div>"
      ],
      "text/plain": [
       "              Comedy          Drama    Documentary      Animation  \\\n",
       "count  315982.000000  325159.000000  115508.000000  108165.000000   \n",
       "mean        6.919186       7.018507       7.241429       7.046735   \n",
       "std         1.353608       1.321164       1.217808       1.240377   \n",
       "min         1.000000       1.000000       1.000000       1.000000   \n",
       "25%         6.200000       6.300000       6.600000       6.400000   \n",
       "50%         7.100000       7.200000       7.400000       7.200000   \n",
       "75%         7.900000       7.900000       8.000000       7.900000   \n",
       "max        10.000000      10.000000      10.000000      10.000000   \n",
       "\n",
       "              Action  \n",
       "count  115307.000000  \n",
       "mean        6.951038  \n",
       "std         1.412571  \n",
       "min         1.000000  \n",
       "25%         6.200000  \n",
       "50%         7.200000  \n",
       "75%         7.900000  \n",
       "max        10.000000  "
      ]
     },
     "execution_count": 31,
     "metadata": {},
     "output_type": "execute_result"
    }
   ],
   "source": [
    "df_genre = pd.concat((Comedy,Drama,Documentary,Animation,Action),axis=1)\n",
    "df_genre.columns=['Comedy','Drama','Documentary','Animation','Action']\n",
    "df_genre.describe()"
   ]
  },
  {
   "cell_type": "markdown",
   "metadata": {},
   "source": [
    "<h5> Возьмем только уникальные жанры (хочется посмотреть еще Horror)"
   ]
  },
  {
   "cell_type": "code",
   "execution_count": 32,
   "metadata": {},
   "outputs": [],
   "source": [
    "Comedy_u = df_left.loc[df_left.genres == 'Comedy', 'averageRating']\n",
    "Drama_u = df_left.loc[df_left.genres == 'Drama', 'averageRating']\n",
    "Documentary_u = df_left.loc[df_left.genres == 'Documentary', 'averageRating']\n",
    "Animation_u = df_left.loc[df_left.genres == 'Animation', 'averageRating']\n",
    "Action_u = df_left.loc[df_left.genres == 'Action', 'averageRating']\n",
    "Horror_u = df_left.loc[df_left.genres == 'Horror', 'averageRating']"
   ]
  },
  {
   "cell_type": "markdown",
   "metadata": {},
   "source": [
    "<h5> С оценками все горяздо печальнее, людям больше нравятся многожанровые фильмы, кроме д/ф! Одножанровость в этом случае преимущество!"
   ]
  },
  {
   "cell_type": "code",
   "execution_count": 33,
   "metadata": {},
   "outputs": [
    {
     "data": {
      "text/html": [
       "<div>\n",
       "<style scoped>\n",
       "    .dataframe tbody tr th:only-of-type {\n",
       "        vertical-align: middle;\n",
       "    }\n",
       "\n",
       "    .dataframe tbody tr th {\n",
       "        vertical-align: top;\n",
       "    }\n",
       "\n",
       "    .dataframe thead th {\n",
       "        text-align: right;\n",
       "    }\n",
       "</style>\n",
       "<table border=\"1\" class=\"dataframe\">\n",
       "  <thead>\n",
       "    <tr style=\"text-align: right;\">\n",
       "      <th></th>\n",
       "      <th>Comedy</th>\n",
       "      <th>Drama</th>\n",
       "      <th>Documentary</th>\n",
       "      <th>Animation</th>\n",
       "      <th>Action</th>\n",
       "      <th>Horror</th>\n",
       "    </tr>\n",
       "  </thead>\n",
       "  <tbody>\n",
       "    <tr>\n",
       "      <th>count</th>\n",
       "      <td>89083.000000</td>\n",
       "      <td>74911.000000</td>\n",
       "      <td>55109.000000</td>\n",
       "      <td>3595.000000</td>\n",
       "      <td>5938.000000</td>\n",
       "      <td>7729.000000</td>\n",
       "    </tr>\n",
       "    <tr>\n",
       "      <th>mean</th>\n",
       "      <td>6.875812</td>\n",
       "      <td>6.818294</td>\n",
       "      <td>7.305531</td>\n",
       "      <td>6.648428</td>\n",
       "      <td>6.080498</td>\n",
       "      <td>5.028607</td>\n",
       "    </tr>\n",
       "    <tr>\n",
       "      <th>std</th>\n",
       "      <td>1.434195</td>\n",
       "      <td>1.341492</td>\n",
       "      <td>1.166354</td>\n",
       "      <td>1.500488</td>\n",
       "      <td>1.578145</td>\n",
       "      <td>1.595740</td>\n",
       "    </tr>\n",
       "    <tr>\n",
       "      <th>min</th>\n",
       "      <td>1.000000</td>\n",
       "      <td>1.000000</td>\n",
       "      <td>1.000000</td>\n",
       "      <td>1.000000</td>\n",
       "      <td>1.000000</td>\n",
       "      <td>1.000000</td>\n",
       "    </tr>\n",
       "    <tr>\n",
       "      <th>25%</th>\n",
       "      <td>6.100000</td>\n",
       "      <td>6.100000</td>\n",
       "      <td>6.700000</td>\n",
       "      <td>6.000000</td>\n",
       "      <td>5.000000</td>\n",
       "      <td>3.800000</td>\n",
       "    </tr>\n",
       "    <tr>\n",
       "      <th>50%</th>\n",
       "      <td>7.100000</td>\n",
       "      <td>6.900000</td>\n",
       "      <td>7.400000</td>\n",
       "      <td>6.900000</td>\n",
       "      <td>6.200000</td>\n",
       "      <td>5.000000</td>\n",
       "    </tr>\n",
       "    <tr>\n",
       "      <th>75%</th>\n",
       "      <td>7.900000</td>\n",
       "      <td>7.700000</td>\n",
       "      <td>8.000000</td>\n",
       "      <td>7.600000</td>\n",
       "      <td>7.300000</td>\n",
       "      <td>6.200000</td>\n",
       "    </tr>\n",
       "    <tr>\n",
       "      <th>max</th>\n",
       "      <td>10.000000</td>\n",
       "      <td>10.000000</td>\n",
       "      <td>10.000000</td>\n",
       "      <td>10.000000</td>\n",
       "      <td>10.000000</td>\n",
       "      <td>9.700000</td>\n",
       "    </tr>\n",
       "  </tbody>\n",
       "</table>\n",
       "</div>"
      ],
      "text/plain": [
       "             Comedy         Drama   Documentary    Animation       Action  \\\n",
       "count  89083.000000  74911.000000  55109.000000  3595.000000  5938.000000   \n",
       "mean       6.875812      6.818294      7.305531     6.648428     6.080498   \n",
       "std        1.434195      1.341492      1.166354     1.500488     1.578145   \n",
       "min        1.000000      1.000000      1.000000     1.000000     1.000000   \n",
       "25%        6.100000      6.100000      6.700000     6.000000     5.000000   \n",
       "50%        7.100000      6.900000      7.400000     6.900000     6.200000   \n",
       "75%        7.900000      7.700000      8.000000     7.600000     7.300000   \n",
       "max       10.000000     10.000000     10.000000    10.000000    10.000000   \n",
       "\n",
       "            Horror  \n",
       "count  7729.000000  \n",
       "mean      5.028607  \n",
       "std       1.595740  \n",
       "min       1.000000  \n",
       "25%       3.800000  \n",
       "50%       5.000000  \n",
       "75%       6.200000  \n",
       "max       9.700000  "
      ]
     },
     "execution_count": 33,
     "metadata": {},
     "output_type": "execute_result"
    }
   ],
   "source": [
    "df_genre = pd.concat((Comedy_u,Drama_u,Documentary_u,Animation_u,Action_u,Horror_u),axis=1)\n",
    "df_genre.columns=['Comedy','Drama','Documentary','Animation','Action','Horror']\n",
    "df_genre.describe()"
   ]
  },
  {
   "cell_type": "code",
   "execution_count": 34,
   "metadata": {},
   "outputs": [
    {
     "data": {
      "image/png": "[encoded data removed]",
      "text/plain": [
       "<Figure size 720x648 with 1 Axes>"
      ]
     },
     "metadata": {},
     "output_type": "display_data"
    }
   ],
   "source": [
    "matplotlib.style.use('ggplot')\n",
    "plt.rcParams['figure.figsize'] = [10, 9]\n",
    "plt.title('Распределение по жанрам')\n",
    "df_left.averageRating.plot.kde(label='genres',lw=3)\n",
    "Comedy_u.plot.kde(label='Comedy')\n",
    "Drama_u.plot.kde(label='Drama')\n",
    "Documentary_u.plot.kde(label='Documentary')\n",
    "Animation_u.plot.kde(label='Animation')\n",
    "Action_u.plot.kde(label='Action')\n",
    "Horror_u.plot.kde(label='Horror')\n",
    "plt.legend()\n",
    "plt.grid(1)"
   ]
  },
  {
   "cell_type": "markdown",
   "metadata": {},
   "source": [
    "<h5> Мат. ожидание Documentary выше Comedy, поэтому теория не верна."
   ]
  },
  {
   "cell_type": "markdown",
   "metadata": {},
   "source": [
    "<h3>Проверка гипотезы: жанр комедия до 1990 года оценки были ниже с alpha=5)."
   ]
  },
  {
   "cell_type": "code",
   "execution_count": 35,
   "metadata": {
    "scrolled": true
   },
   "outputs": [
    {
     "data": {
      "text/html": [
       "<div>\n",
       "<style scoped>\n",
       "    .dataframe tbody tr th:only-of-type {\n",
       "        vertical-align: middle;\n",
       "    }\n",
       "\n",
       "    .dataframe tbody tr th {\n",
       "        vertical-align: top;\n",
       "    }\n",
       "\n",
       "    .dataframe thead th {\n",
       "        text-align: right;\n",
       "    }\n",
       "</style>\n",
       "<table border=\"1\" class=\"dataframe\">\n",
       "  <thead>\n",
       "    <tr style=\"text-align: right;\">\n",
       "      <th></th>\n",
       "      <th>averageRating</th>\n",
       "      <th>startYear</th>\n",
       "    </tr>\n",
       "  </thead>\n",
       "  <tbody>\n",
       "    <tr>\n",
       "      <th>604</th>\n",
       "      <td>4.0</td>\n",
       "      <td>1909</td>\n",
       "    </tr>\n",
       "    <tr>\n",
       "      <th>1134</th>\n",
       "      <td>4.2</td>\n",
       "      <td>1913</td>\n",
       "    </tr>\n",
       "    <tr>\n",
       "      <th>1260</th>\n",
       "      <td>6.6</td>\n",
       "      <td>1914</td>\n",
       "    </tr>\n",
       "    <tr>\n",
       "      <th>1291</th>\n",
       "      <td>6.8</td>\n",
       "      <td>1914</td>\n",
       "    </tr>\n",
       "    <tr>\n",
       "      <th>1307</th>\n",
       "      <td>5.9</td>\n",
       "      <td>1914</td>\n",
       "    </tr>\n",
       "  </tbody>\n",
       "</table>\n",
       "</div>"
      ],
      "text/plain": [
       "      averageRating startYear\n",
       "604             4.0      1909\n",
       "1134            4.2      1913\n",
       "1260            6.6      1914\n",
       "1291            6.8      1914\n",
       "1307            5.9      1914"
      ]
     },
     "execution_count": 35,
     "metadata": {},
     "output_type": "execute_result"
    }
   ],
   "source": [
    "# Статистически значимым для альфа 5% до 1990 года и после\n",
    "df_Comedy = df_left.loc[df_left.genres == 'Comedy', ['averageRating','startYear']]\n",
    "df_Comedy.head()"
   ]
  },
  {
   "cell_type": "code",
   "execution_count": 36,
   "metadata": {},
   "outputs": [
    {
     "data": {
      "text/html": [
       "<div>\n",
       "<style scoped>\n",
       "    .dataframe tbody tr th:only-of-type {\n",
       "        vertical-align: middle;\n",
       "    }\n",
       "\n",
       "    .dataframe tbody tr th {\n",
       "        vertical-align: top;\n",
       "    }\n",
       "\n",
       "    .dataframe thead th {\n",
       "        text-align: right;\n",
       "    }\n",
       "</style>\n",
       "<table border=\"1\" class=\"dataframe\">\n",
       "  <thead>\n",
       "    <tr style=\"text-align: right;\">\n",
       "      <th></th>\n",
       "      <th>averageRating</th>\n",
       "      <th>startYear</th>\n",
       "    </tr>\n",
       "  </thead>\n",
       "  <tbody>\n",
       "    <tr>\n",
       "      <th>count</th>\n",
       "      <td>89083.000000</td>\n",
       "      <td>89083.000000</td>\n",
       "    </tr>\n",
       "    <tr>\n",
       "      <th>mean</th>\n",
       "      <td>6.875812</td>\n",
       "      <td>1998.058653</td>\n",
       "    </tr>\n",
       "    <tr>\n",
       "      <th>std</th>\n",
       "      <td>1.434195</td>\n",
       "      <td>24.018425</td>\n",
       "    </tr>\n",
       "    <tr>\n",
       "      <th>min</th>\n",
       "      <td>1.000000</td>\n",
       "      <td>0.000000</td>\n",
       "    </tr>\n",
       "    <tr>\n",
       "      <th>25%</th>\n",
       "      <td>6.100000</td>\n",
       "      <td>1987.000000</td>\n",
       "    </tr>\n",
       "    <tr>\n",
       "      <th>50%</th>\n",
       "      <td>7.100000</td>\n",
       "      <td>2006.000000</td>\n",
       "    </tr>\n",
       "    <tr>\n",
       "      <th>75%</th>\n",
       "      <td>7.900000</td>\n",
       "      <td>2013.000000</td>\n",
       "    </tr>\n",
       "    <tr>\n",
       "      <th>max</th>\n",
       "      <td>10.000000</td>\n",
       "      <td>2019.000000</td>\n",
       "    </tr>\n",
       "  </tbody>\n",
       "</table>\n",
       "</div>"
      ],
      "text/plain": [
       "       averageRating     startYear\n",
       "count   89083.000000  89083.000000\n",
       "mean        6.875812   1998.058653\n",
       "std         1.434195     24.018425\n",
       "min         1.000000      0.000000\n",
       "25%         6.100000   1987.000000\n",
       "50%         7.100000   2006.000000\n",
       "75%         7.900000   2013.000000\n",
       "max        10.000000   2019.000000"
      ]
     },
     "execution_count": 36,
     "metadata": {},
     "output_type": "execute_result"
    }
   ],
   "source": [
    "df_Comedy.startYear = ['0' if x=='\\\\N' else x for x in df_Comedy.startYear] # уберем пропуски в ноль\n",
    "df_Comedy.startYear = [int(x) for x in df_Comedy.startYear] # преобразуем в число для операций сравнения\n",
    "df_Comedy.describe()"
   ]
  },
  {
   "cell_type": "code",
   "execution_count": 37,
   "metadata": {},
   "outputs": [
    {
     "data": {
      "text/html": [
       "<div>\n",
       "<style scoped>\n",
       "    .dataframe tbody tr th:only-of-type {\n",
       "        vertical-align: middle;\n",
       "    }\n",
       "\n",
       "    .dataframe tbody tr th {\n",
       "        vertical-align: top;\n",
       "    }\n",
       "\n",
       "    .dataframe thead th {\n",
       "        text-align: right;\n",
       "    }\n",
       "</style>\n",
       "<table border=\"1\" class=\"dataframe\">\n",
       "  <thead>\n",
       "    <tr style=\"text-align: right;\">\n",
       "      <th></th>\n",
       "      <th>averageRating</th>\n",
       "      <th>startYear</th>\n",
       "    </tr>\n",
       "  </thead>\n",
       "  <tbody>\n",
       "    <tr>\n",
       "      <th>count</th>\n",
       "      <td>24164.000000</td>\n",
       "      <td>24164.000000</td>\n",
       "    </tr>\n",
       "    <tr>\n",
       "      <th>mean</th>\n",
       "      <td>6.712022</td>\n",
       "      <td>1969.941276</td>\n",
       "    </tr>\n",
       "    <tr>\n",
       "      <th>std</th>\n",
       "      <td>1.295155</td>\n",
       "      <td>29.520186</td>\n",
       "    </tr>\n",
       "    <tr>\n",
       "      <th>min</th>\n",
       "      <td>1.300000</td>\n",
       "      <td>0.000000</td>\n",
       "    </tr>\n",
       "    <tr>\n",
       "      <th>25%</th>\n",
       "      <td>5.900000</td>\n",
       "      <td>1962.000000</td>\n",
       "    </tr>\n",
       "    <tr>\n",
       "      <th>50%</th>\n",
       "      <td>6.900000</td>\n",
       "      <td>1974.000000</td>\n",
       "    </tr>\n",
       "    <tr>\n",
       "      <th>75%</th>\n",
       "      <td>7.600000</td>\n",
       "      <td>1982.000000</td>\n",
       "    </tr>\n",
       "    <tr>\n",
       "      <th>max</th>\n",
       "      <td>10.000000</td>\n",
       "      <td>1989.000000</td>\n",
       "    </tr>\n",
       "  </tbody>\n",
       "</table>\n",
       "</div>"
      ],
      "text/plain": [
       "       averageRating     startYear\n",
       "count   24164.000000  24164.000000\n",
       "mean        6.712022   1969.941276\n",
       "std         1.295155     29.520186\n",
       "min         1.300000      0.000000\n",
       "25%         5.900000   1962.000000\n",
       "50%         6.900000   1974.000000\n",
       "75%         7.600000   1982.000000\n",
       "max        10.000000   1989.000000"
      ]
     },
     "execution_count": 37,
     "metadata": {},
     "output_type": "execute_result"
    }
   ],
   "source": [
    "bef_90 = df_Comedy.loc[df_Comedy.startYear < 1990, ['averageRating','startYear']]\n",
    "bef_90.describe()"
   ]
  },
  {
   "cell_type": "code",
   "execution_count": 38,
   "metadata": {},
   "outputs": [
    {
     "data": {
      "text/html": [
       "<div>\n",
       "<style scoped>\n",
       "    .dataframe tbody tr th:only-of-type {\n",
       "        vertical-align: middle;\n",
       "    }\n",
       "\n",
       "    .dataframe tbody tr th {\n",
       "        vertical-align: top;\n",
       "    }\n",
       "\n",
       "    .dataframe thead th {\n",
       "        text-align: right;\n",
       "    }\n",
       "</style>\n",
       "<table border=\"1\" class=\"dataframe\">\n",
       "  <thead>\n",
       "    <tr style=\"text-align: right;\">\n",
       "      <th></th>\n",
       "      <th>averageRating</th>\n",
       "      <th>startYear</th>\n",
       "    </tr>\n",
       "  </thead>\n",
       "  <tbody>\n",
       "    <tr>\n",
       "      <th>count</th>\n",
       "      <td>64919.000000</td>\n",
       "      <td>64919.000000</td>\n",
       "    </tr>\n",
       "    <tr>\n",
       "      <th>mean</th>\n",
       "      <td>6.936778</td>\n",
       "      <td>2008.524438</td>\n",
       "    </tr>\n",
       "    <tr>\n",
       "      <th>std</th>\n",
       "      <td>1.478003</td>\n",
       "      <td>7.965425</td>\n",
       "    </tr>\n",
       "    <tr>\n",
       "      <th>min</th>\n",
       "      <td>1.000000</td>\n",
       "      <td>1990.000000</td>\n",
       "    </tr>\n",
       "    <tr>\n",
       "      <th>25%</th>\n",
       "      <td>6.200000</td>\n",
       "      <td>2003.000000</td>\n",
       "    </tr>\n",
       "    <tr>\n",
       "      <th>50%</th>\n",
       "      <td>7.200000</td>\n",
       "      <td>2011.000000</td>\n",
       "    </tr>\n",
       "    <tr>\n",
       "      <th>75%</th>\n",
       "      <td>8.000000</td>\n",
       "      <td>2015.000000</td>\n",
       "    </tr>\n",
       "    <tr>\n",
       "      <th>max</th>\n",
       "      <td>10.000000</td>\n",
       "      <td>2019.000000</td>\n",
       "    </tr>\n",
       "  </tbody>\n",
       "</table>\n",
       "</div>"
      ],
      "text/plain": [
       "       averageRating     startYear\n",
       "count   64919.000000  64919.000000\n",
       "mean        6.936778   2008.524438\n",
       "std         1.478003      7.965425\n",
       "min         1.000000   1990.000000\n",
       "25%         6.200000   2003.000000\n",
       "50%         7.200000   2011.000000\n",
       "75%         8.000000   2015.000000\n",
       "max        10.000000   2019.000000"
      ]
     },
     "execution_count": 38,
     "metadata": {},
     "output_type": "execute_result"
    }
   ],
   "source": [
    "aft_90 = df_Comedy.loc[df_Comedy.startYear >= 1990, ['averageRating','startYear']]\n",
    "aft_90.describe()"
   ]
  },
  {
   "cell_type": "code",
   "execution_count": 39,
   "metadata": {},
   "outputs": [
    {
     "data": {
      "image/png": "[encoded data removed]",
      "text/plain": [
       "<Figure size 720x648 with 1 Axes>"
      ]
     },
     "metadata": {},
     "output_type": "display_data"
    }
   ],
   "source": [
    "matplotlib.style.use('ggplot')\n",
    "plt.rcParams['figure.figsize'] = [10, 9]\n",
    "plt.title('Комедии')\n",
    "aft_90.averageRating.plot.kde(label='С 90го года')\n",
    "bef_90.averageRating.plot.kde(label='До 90го года')\n",
    "plt.legend()\n",
    "plt.grid(1)"
   ]
  },
  {
   "cell_type": "code",
   "execution_count": 40,
   "metadata": {},
   "outputs": [
    {
     "name": "stdout",
     "output_type": "stream",
     "text": [
      "Zt:  1.645\n",
      "Zn:  -26.975784410693358\n"
     ]
    }
   ],
   "source": [
    "mu=bef_90.averageRating.mean()\n",
    "mu0=aft_90.averageRating.mean()\n",
    "n=bef_90.averageRating.count()\n",
    "sigma = np.std(bef_90.averageRating,ddof=1)\n",
    "alfa=5\n",
    "\n",
    "Zt=1.645\n",
    "Zn = (mu-mu0)/(sigma/math.sqrt(n))\n",
    "\n",
    "print('Zt: ',Zt)\n",
    "print('Zn: ',Zn)"
   ]
  },
  {
   "cell_type": "markdown",
   "metadata": {},
   "source": [
    "<h5>Честно признаться, тут сразу видно, что среднее ниже, а не больше. Поэтому, наверное и решение получилось отрицательное. А вот если попробовать сказать, что после 1990 года оценка выше, то получим 38, значит либо разницы никакой совершенно, либо я перепутал как сравнивать Zt и Zn!!!"
   ]
  },
  {
   "cell_type": "code",
   "execution_count": 41,
   "metadata": {},
   "outputs": [
    {
     "name": "stdout",
     "output_type": "stream",
     "text": [
      "Zt:  1.645\n",
      "Zn:  38.745565441566555\n"
     ]
    }
   ],
   "source": [
    "mu0=bef_90.averageRating.mean()\n",
    "mu=aft_90.averageRating.mean()\n",
    "n=aft_90.averageRating.count()\n",
    "sigma = np.std(aft_90.averageRating,ddof=1)\n",
    "alfa=5\n",
    "\n",
    "Zt=1.645\n",
    "Zn = (mu-mu0)/(sigma/math.sqrt(n))\n",
    "\n",
    "print('Zt: ',Zt)\n",
    "print('Zn: ',Zn)"
   ]
  },
  {
   "cell_type": "markdown",
   "metadata": {},
   "source": [
    "<h5>Попробую спросить у Питона:"
   ]
  },
  {
   "cell_type": "code",
   "execution_count": 226,
   "metadata": {},
   "outputs": [
    {
     "data": {
      "text/plain": [
       "F_onewayResult(statistic=434.57115549465266, pvalue=2.7955981070321576e-96)"
      ]
     },
     "execution_count": 226,
     "metadata": {},
     "output_type": "execute_result"
    }
   ],
   "source": [
    "stats.f_oneway(bef_90.averageRating,aft_90.averageRating)"
   ]
  },
  {
   "cell_type": "markdown",
   "metadata": {},
   "source": [
    "<h5>pvalue нереально маленькое - значит теория H1 должна быть верна! Что в корне противоречит моей постановке вопроса!"
   ]
  },
  {
   "cell_type": "markdown",
   "metadata": {},
   "source": [
    "<h3> Прогноз выхода новых фильмов в год по жанрам (сверить с фактом). "
   ]
  },
  {
   "cell_type": "code",
   "execution_count": 124,
   "metadata": {},
   "outputs": [
    {
     "data": {
      "text/html": [
       "<div>\n",
       "<style scoped>\n",
       "    .dataframe tbody tr th:only-of-type {\n",
       "        vertical-align: middle;\n",
       "    }\n",
       "\n",
       "    .dataframe tbody tr th {\n",
       "        vertical-align: top;\n",
       "    }\n",
       "\n",
       "    .dataframe thead th {\n",
       "        text-align: right;\n",
       "    }\n",
       "</style>\n",
       "<table border=\"1\" class=\"dataframe\">\n",
       "  <thead>\n",
       "    <tr style=\"text-align: right;\">\n",
       "      <th></th>\n",
       "      <th>averageRating</th>\n",
       "    </tr>\n",
       "    <tr>\n",
       "      <th>startYear</th>\n",
       "      <th></th>\n",
       "    </tr>\n",
       "  </thead>\n",
       "  <tbody>\n",
       "    <tr>\n",
       "      <th>1900</th>\n",
       "      <td>2</td>\n",
       "    </tr>\n",
       "    <tr>\n",
       "      <th>1906</th>\n",
       "      <td>1</td>\n",
       "    </tr>\n",
       "    <tr>\n",
       "      <th>1907</th>\n",
       "      <td>1</td>\n",
       "    </tr>\n",
       "    <tr>\n",
       "      <th>1909</th>\n",
       "      <td>2</td>\n",
       "    </tr>\n",
       "    <tr>\n",
       "      <th>1910</th>\n",
       "      <td>1</td>\n",
       "    </tr>\n",
       "    <tr>\n",
       "      <th>...</th>\n",
       "      <td>...</td>\n",
       "    </tr>\n",
       "    <tr>\n",
       "      <th>2015</th>\n",
       "      <td>3996</td>\n",
       "    </tr>\n",
       "    <tr>\n",
       "      <th>2016</th>\n",
       "      <td>4060</td>\n",
       "    </tr>\n",
       "    <tr>\n",
       "      <th>2017</th>\n",
       "      <td>3973</td>\n",
       "    </tr>\n",
       "    <tr>\n",
       "      <th>2018</th>\n",
       "      <td>3701</td>\n",
       "    </tr>\n",
       "    <tr>\n",
       "      <th>2019</th>\n",
       "      <td>2727</td>\n",
       "    </tr>\n",
       "  </tbody>\n",
       "</table>\n",
       "<p>114 rows × 1 columns</p>\n",
       "</div>"
      ],
      "text/plain": [
       "           averageRating\n",
       "startYear               \n",
       "1900                   2\n",
       "1906                   1\n",
       "1907                   1\n",
       "1909                   2\n",
       "1910                   1\n",
       "...                  ...\n",
       "2015                3996\n",
       "2016                4060\n",
       "2017                3973\n",
       "2018                3701\n",
       "2019                2727\n",
       "\n",
       "[114 rows x 1 columns]"
      ]
     },
     "execution_count": 124,
     "metadata": {},
     "output_type": "execute_result"
    }
   ],
   "source": [
    "year_f = df_Comedy.groupby('startYear').count()\n",
    "year_f=year_f[1:]\n",
    "year_f"
   ]
  },
  {
   "cell_type": "code",
   "execution_count": 95,
   "metadata": {},
   "outputs": [
    {
     "data": {
      "text/plain": [
       "[<matplotlib.lines.Line2D at 0x1a37fc5d6c8>]"
      ]
     },
     "execution_count": 95,
     "metadata": {},
     "output_type": "execute_result"
    },
    {
     "data": {
      "image/png": "[encoded data removed]",
      "text/plain": [
       "<Figure size 720x648 with 1 Axes>"
      ]
     },
     "metadata": {},
     "output_type": "display_data"
    }
   ],
   "source": [
    "plt.plot(year_f.index,year_f)"
   ]
  },
  {
   "cell_type": "code",
   "execution_count": 184,
   "metadata": {},
   "outputs": [
    {
     "data": {
      "text/html": [
       "<div>\n",
       "<style scoped>\n",
       "    .dataframe tbody tr th:only-of-type {\n",
       "        vertical-align: middle;\n",
       "    }\n",
       "\n",
       "    .dataframe tbody tr th {\n",
       "        vertical-align: top;\n",
       "    }\n",
       "\n",
       "    .dataframe thead th {\n",
       "        text-align: right;\n",
       "    }\n",
       "</style>\n",
       "<table border=\"1\" class=\"dataframe\">\n",
       "  <thead>\n",
       "    <tr style=\"text-align: right;\">\n",
       "      <th></th>\n",
       "      <th>characters</th>\n",
       "      <th>startYear</th>\n",
       "    </tr>\n",
       "  </thead>\n",
       "  <tbody>\n",
       "    <tr>\n",
       "      <th>0</th>\n",
       "      <td>[\"Herself\"]</td>\n",
       "      <td>1894</td>\n",
       "    </tr>\n",
       "    <tr>\n",
       "      <th>21</th>\n",
       "      <td>[\"Violinist\"]</td>\n",
       "      <td>1894</td>\n",
       "    </tr>\n",
       "    <tr>\n",
       "      <th>138</th>\n",
       "      <td>[\"Man on left\"]</td>\n",
       "      <td>1898</td>\n",
       "    </tr>\n",
       "    <tr>\n",
       "      <th>551</th>\n",
       "      <td>[\"Blacksmith\"]</td>\n",
       "      <td>1893</td>\n",
       "    </tr>\n",
       "    <tr>\n",
       "      <th>552</th>\n",
       "      <td>[\"Assistant\"]</td>\n",
       "      <td>1893</td>\n",
       "    </tr>\n",
       "    <tr>\n",
       "      <th>...</th>\n",
       "      <td>...</td>\n",
       "      <td>...</td>\n",
       "    </tr>\n",
       "    <tr>\n",
       "      <th>8288001</th>\n",
       "      <td>[\"Mao Ze Dong\"]</td>\n",
       "      <td>2019</td>\n",
       "    </tr>\n",
       "    <tr>\n",
       "      <th>8288002</th>\n",
       "      <td>[\"Dr. Hatem\"]</td>\n",
       "      <td>2019</td>\n",
       "    </tr>\n",
       "    <tr>\n",
       "      <th>8288003</th>\n",
       "      <td>[\"Tommy\"]</td>\n",
       "      <td>2019</td>\n",
       "    </tr>\n",
       "    <tr>\n",
       "      <th>8288004</th>\n",
       "      <td>[\"Aaron\"]</td>\n",
       "      <td>2019</td>\n",
       "    </tr>\n",
       "    <tr>\n",
       "      <th>8288005</th>\n",
       "      <td>[\"Conor\"]</td>\n",
       "      <td>2019</td>\n",
       "    </tr>\n",
       "  </tbody>\n",
       "</table>\n",
       "<p>3897375 rows × 2 columns</p>\n",
       "</div>"
      ],
      "text/plain": [
       "              characters startYear\n",
       "0            [\"Herself\"]      1894\n",
       "21         [\"Violinist\"]      1894\n",
       "138      [\"Man on left\"]      1898\n",
       "551       [\"Blacksmith\"]      1893\n",
       "552        [\"Assistant\"]      1893\n",
       "...                  ...       ...\n",
       "8288001  [\"Mao Ze Dong\"]      2019\n",
       "8288002    [\"Dr. Hatem\"]      2019\n",
       "8288003        [\"Tommy\"]      2019\n",
       "8288004        [\"Aaron\"]      2019\n",
       "8288005        [\"Conor\"]      2019\n",
       "\n",
       "[3897375 rows x 2 columns]"
      ]
     },
     "execution_count": 184,
     "metadata": {},
     "output_type": "execute_result"
    }
   ],
   "source": [
    "char_f = df_all.loc[df_all.characters != r'\\N', ['characters','startYear']]\n",
    "char_f"
   ]
  },
  {
   "cell_type": "code",
   "execution_count": 126,
   "metadata": {},
   "outputs": [
    {
     "data": {
      "text/html": [
       "<div>\n",
       "<style scoped>\n",
       "    .dataframe tbody tr th:only-of-type {\n",
       "        vertical-align: middle;\n",
       "    }\n",
       "\n",
       "    .dataframe tbody tr th {\n",
       "        vertical-align: top;\n",
       "    }\n",
       "\n",
       "    .dataframe thead th {\n",
       "        text-align: right;\n",
       "    }\n",
       "</style>\n",
       "<table border=\"1\" class=\"dataframe\">\n",
       "  <thead>\n",
       "    <tr style=\"text-align: right;\">\n",
       "      <th></th>\n",
       "      <th>averageRating</th>\n",
       "    </tr>\n",
       "    <tr>\n",
       "      <th>startYear</th>\n",
       "      <th></th>\n",
       "    </tr>\n",
       "  </thead>\n",
       "  <tbody>\n",
       "    <tr>\n",
       "      <th>1900</th>\n",
       "      <td>2</td>\n",
       "    </tr>\n",
       "    <tr>\n",
       "      <th>1906</th>\n",
       "      <td>1</td>\n",
       "    </tr>\n",
       "    <tr>\n",
       "      <th>1907</th>\n",
       "      <td>1</td>\n",
       "    </tr>\n",
       "    <tr>\n",
       "      <th>1909</th>\n",
       "      <td>2</td>\n",
       "    </tr>\n",
       "    <tr>\n",
       "      <th>1910</th>\n",
       "      <td>1</td>\n",
       "    </tr>\n",
       "    <tr>\n",
       "      <th>...</th>\n",
       "      <td>...</td>\n",
       "    </tr>\n",
       "    <tr>\n",
       "      <th>2015</th>\n",
       "      <td>3996</td>\n",
       "    </tr>\n",
       "    <tr>\n",
       "      <th>2016</th>\n",
       "      <td>4060</td>\n",
       "    </tr>\n",
       "    <tr>\n",
       "      <th>2017</th>\n",
       "      <td>3973</td>\n",
       "    </tr>\n",
       "    <tr>\n",
       "      <th>2018</th>\n",
       "      <td>3701</td>\n",
       "    </tr>\n",
       "    <tr>\n",
       "      <th>2019</th>\n",
       "      <td>2727</td>\n",
       "    </tr>\n",
       "  </tbody>\n",
       "</table>\n",
       "<p>114 rows × 1 columns</p>\n",
       "</div>"
      ],
      "text/plain": [
       "           averageRating\n",
       "startYear               \n",
       "1900                   2\n",
       "1906                   1\n",
       "1907                   1\n",
       "1909                   2\n",
       "1910                   1\n",
       "...                  ...\n",
       "2015                3996\n",
       "2016                4060\n",
       "2017                3973\n",
       "2018                3701\n",
       "2019                2727\n",
       "\n",
       "[114 rows x 1 columns]"
      ]
     },
     "execution_count": 126,
     "metadata": {},
     "output_type": "execute_result"
    }
   ],
   "source": [
    "year_f = df_Comedy.groupby('startYear').count()\n",
    "year_f=year_f[1:]\n",
    "year_f"
   ]
  },
  {
   "cell_type": "code",
   "execution_count": 197,
   "metadata": {},
   "outputs": [
    {
     "data": {
      "text/plain": [
       "[<matplotlib.lines.Line2D at 0x1a38120c488>]"
      ]
     },
     "execution_count": 197,
     "metadata": {},
     "output_type": "execute_result"
    },
    {
     "data": {
      "image/png": "[encoded data removed]",
      "text/plain": [
       "<Figure size 720x648 with 1 Axes>"
      ]
     },
     "metadata": {},
     "output_type": "display_data"
    }
   ],
   "source": [
    "char = char_f.groupby('startYear').count()\n",
    "char=char[:-1]\n",
    "# появились дубликаты из-за двух видов типов данных (int и str)!!! Надо их убрать и суммировать.\n",
    "plt.plot(char.index,char)\n",
    "# plt.plot(year_f.index,year_f)"
   ]
  },
  {
   "cell_type": "code",
   "execution_count": 200,
   "metadata": {},
   "outputs": [
    {
     "data": {
      "text/plain": [
       "[<matplotlib.lines.Line2D at 0x1a381854f48>]"
      ]
     },
     "execution_count": 200,
     "metadata": {},
     "output_type": "execute_result"
    },
    {
     "data": {
      "image/png": "[encoded data removed]",
      "text/plain": [
       "<Figure size 720x648 with 1 Axes>"
      ]
     },
     "metadata": {},
     "output_type": "display_data"
    }
   ],
   "source": [
    "char.index = char.index.astype(np.int64)\n",
    "char = char.groupby('startYear').sum()\n",
    "plt.plot(char.index,char)\n",
    "plt.plot(year_f.index,year_f)"
   ]
  },
  {
   "cell_type": "code",
   "execution_count": 217,
   "metadata": {},
   "outputs": [
    {
     "data": {
      "text/html": [
       "<div>\n",
       "<style scoped>\n",
       "    .dataframe tbody tr th:only-of-type {\n",
       "        vertical-align: middle;\n",
       "    }\n",
       "\n",
       "    .dataframe tbody tr th {\n",
       "        vertical-align: top;\n",
       "    }\n",
       "\n",
       "    .dataframe thead th {\n",
       "        text-align: right;\n",
       "    }\n",
       "</style>\n",
       "<table border=\"1\" class=\"dataframe\">\n",
       "  <thead>\n",
       "    <tr style=\"text-align: right;\">\n",
       "      <th></th>\n",
       "      <th>averageRating</th>\n",
       "      <th>characters</th>\n",
       "    </tr>\n",
       "    <tr>\n",
       "      <th>startYear</th>\n",
       "      <th></th>\n",
       "      <th></th>\n",
       "    </tr>\n",
       "  </thead>\n",
       "  <tbody>\n",
       "    <tr>\n",
       "      <th>1900</th>\n",
       "      <td>2</td>\n",
       "      <td>62</td>\n",
       "    </tr>\n",
       "    <tr>\n",
       "      <th>1906</th>\n",
       "      <td>1</td>\n",
       "      <td>90</td>\n",
       "    </tr>\n",
       "    <tr>\n",
       "      <th>1907</th>\n",
       "      <td>1</td>\n",
       "      <td>78</td>\n",
       "    </tr>\n",
       "    <tr>\n",
       "      <th>1909</th>\n",
       "      <td>2</td>\n",
       "      <td>856</td>\n",
       "    </tr>\n",
       "    <tr>\n",
       "      <th>1910</th>\n",
       "      <td>1</td>\n",
       "      <td>787</td>\n",
       "    </tr>\n",
       "    <tr>\n",
       "      <th>...</th>\n",
       "      <td>...</td>\n",
       "      <td>...</td>\n",
       "    </tr>\n",
       "    <tr>\n",
       "      <th>2015</th>\n",
       "      <td>3996</td>\n",
       "      <td>171784</td>\n",
       "    </tr>\n",
       "    <tr>\n",
       "      <th>2016</th>\n",
       "      <td>4060</td>\n",
       "      <td>183758</td>\n",
       "    </tr>\n",
       "    <tr>\n",
       "      <th>2017</th>\n",
       "      <td>3973</td>\n",
       "      <td>180729</td>\n",
       "    </tr>\n",
       "    <tr>\n",
       "      <th>2018</th>\n",
       "      <td>3701</td>\n",
       "      <td>172198</td>\n",
       "    </tr>\n",
       "    <tr>\n",
       "      <th>2019</th>\n",
       "      <td>2727</td>\n",
       "      <td>120094</td>\n",
       "    </tr>\n",
       "  </tbody>\n",
       "</table>\n",
       "<p>114 rows × 2 columns</p>\n",
       "</div>"
      ],
      "text/plain": [
       "           averageRating  characters\n",
       "startYear                           \n",
       "1900                   2          62\n",
       "1906                   1          90\n",
       "1907                   1          78\n",
       "1909                   2         856\n",
       "1910                   1         787\n",
       "...                  ...         ...\n",
       "2015                3996      171784\n",
       "2016                4060      183758\n",
       "2017                3973      180729\n",
       "2018                3701      172198\n",
       "2019                2727      120094\n",
       "\n",
       "[114 rows x 2 columns]"
      ]
     },
     "execution_count": 217,
     "metadata": {},
     "output_type": "execute_result"
    }
   ],
   "source": [
    "result = pd.concat([year_f, char], axis=1, join='inner')\n",
    "result"
   ]
  },
  {
   "cell_type": "code",
   "execution_count": 218,
   "metadata": {},
   "outputs": [
    {
     "data": {
      "text/plain": [
       "F_onewayResult(statistic=55.24430782815164, pvalue=2.1783170677739504e-12)"
      ]
     },
     "execution_count": 218,
     "metadata": {},
     "output_type": "execute_result"
    }
   ],
   "source": [
    "stats.f_oneway(result.averageRating,result.characters)"
   ]
  },
  {
   "cell_type": "code",
   "execution_count": 221,
   "metadata": {},
   "outputs": [
    {
     "name": "stdout",
     "output_type": "stream",
     "text": [
      "b 0.021295234463654302\n",
      "b 0.021295234463654306\n",
      "a 53.77001247315161\n",
      "startYear\n",
      "1900      55.090317\n",
      "1906      55.686584\n",
      "1907      55.431041\n",
      "1909      71.998733\n",
      "1910      70.529362\n",
      "           ...     \n",
      "2015    3711.950570\n",
      "2016    3966.939707\n",
      "2017    3902.436442\n",
      "2018    3720.766797\n",
      "2019    2611.199900\n",
      "Name: characters, Length: 114, dtype: float64\n"
     ]
    },
    {
     "data": {
      "image/png": "[encoded data removed]",
      "text/plain": [
       "<Figure size 576x360 with 1 Axes>"
      ]
     },
     "metadata": {},
     "output_type": "display_data"
    },
    {
     "data": {
      "text/plain": [
       "[<matplotlib.lines.Line2D at 0x1a3828c1e88>]"
      ]
     },
     "execution_count": 221,
     "metadata": {},
     "output_type": "execute_result"
    },
    {
     "data": {
      "image/png": "[encoded data removed]",
      "text/plain": [
       "<Figure size 720x648 with 1 Axes>"
      ]
     },
     "metadata": {},
     "output_type": "display_data"
    }
   ],
   "source": [
    "X = result.characters\n",
    "y = result.averageRating\n",
    "# y=a+b*x\n",
    "b=(np.mean(X*y)-np.mean(X)*np.mean(y))/(np.mean(X**2)-np.mean(X)**2)\n",
    "print('b',b)\n",
    "n=len(X)\n",
    "b=(n*np.sum(X*y)-np.sum(X)*np.sum(y))/(n*np.sum(X**2)-np.sum(X)**2)\n",
    "print('b',b)\n",
    "a=np.mean(y)-b*np.mean(X)\n",
    "print('a',a)\n",
    "y_hat=a+b*X\n",
    "print(y_hat)\n",
    "\n",
    "# Построение графика\n",
    "x = np.linspace(0, len(y), len(y))\n",
    "fig, ax = plt.subplots()\n",
    "ax.plot(x, y, label = 'y')\n",
    "ax.plot(x, y_hat, label = 'y_hat')\n",
    "ax.set_title(\"Факт y и прогноз y_hat\")\n",
    "ax.legend()\n",
    "ax.grid()\n",
    "fig.set_figheight(5)\n",
    "fig.set_figwidth(8)\n",
    "plt.show()\n",
    "\n",
    "plt.scatter(X,y)\n",
    "plt.plot(X,a+b*X)"
   ]
  },
  {
   "cell_type": "code",
   "execution_count": 225,
   "metadata": {},
   "outputs": [
    {
     "name": "stdout",
     "output_type": "stream",
     "text": [
      "rmse       :  144.4877932647377\n",
      "rmse python:  144.4877932647377\n",
      "r2:  0.9801999447233467\n"
     ]
    }
   ],
   "source": [
    "from sklearn.metrics import mean_squared_error as msee\n",
    "from sklearn.metrics import r2_score\n",
    "\n",
    "def mse(y,y_hat,n):\n",
    "    return ((y-y_hat)**2).sum()/n\n",
    "\n",
    "print('rmse       : ',sqrt(mse(y,y_hat,len(y))))\n",
    "print('rmse python: ',sqrt(msee(y,y_hat)))\n",
    "print('r2: ',r2_score(y,y_hat))"
   ]
  },
  {
   "cell_type": "markdown",
   "metadata": {},
   "source": [
    "<h4> r2 0.98 - результат отличный )\n",
    "    Зависимость между персонажами и фильмами весма высока."
   ]
  },
  {
   "cell_type": "markdown",
   "metadata": {},
   "source": [
    "Вопросы по всему КП:\n",
    "1. Насколько, все-таки, нормально распределена исследуемая величина (сердняя оценка фильмов)?\n",
    "2. Можете дать ссылку на статьи, книги, сайты, курсы по разведочному анализу данных? Я много упустил?\n",
    "3. Почему средние оценки имели пилообразный характер распределения (ячейка 25 с графиком)?\n",
    "4. Построил ли я график распределения Паретто (никак не могу понять, что это)? И как проверить распределение на Паретто?\n",
    "5. Почему, при том, что средняя оценка комедий с 90го года явно выше, я получаю результаты противоположные? Я ошибся?"
   ]
  },
  {
   "cell_type": "code",
   "execution_count": null,
   "metadata": {},
   "outputs": [],
   "source": []
  }
 ],
 "metadata": {
  "kernelspec": {
   "display_name": "Python 3",
   "language": "python",
   "name": "python3"
  },
  "language_info": {
   "codemirror_mode": {
    "name": "ipython",
    "version": 3
   },
   "file_extension": ".py",
   "mimetype": "text/x-python",
   "name": "python",
   "nbconvert_exporter": "python",
   "pygments_lexer": "ipython3",
   "version": "3.7.6"
  }
 },
 "nbformat": 4,
 "nbformat_minor": 2
}
